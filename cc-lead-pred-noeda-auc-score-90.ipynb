{
 "cells": [
  {
   "cell_type": "code",
   "execution_count": 1,
   "id": "impressive-acceptance",
   "metadata": {
    "_cell_guid": "b1076dfc-b9ad-4769-8c92-a6c4dae69d19",
    "_uuid": "8f2839f25d086af736a60e9eeb907d3b93b6e0e5",
    "papermill": {
     "duration": 0.080847,
     "end_time": "2021-06-21T10:44:33.419444",
     "exception": false,
     "start_time": "2021-06-21T10:44:33.338597",
     "status": "completed"
    },
    "tags": []
   },
   "outputs": [],
   "source": [
    "# This Python 3 environment comes with many helpful analytics libraries installed\n",
    "# It is defined by the kaggle/python Docker image: https://github.com/kaggle/docker-python\n",
    "# For example, here's several helpful packages to load\n",
    "\n",
    "import numpy as np # linear algebra\n",
    "import pandas as pd # data processing, CSV file I/O (e.g. pd.read_csv)\n",
    "\n",
    "# Input data files are available in the read-only \"../input/\" directory\n",
    "# For example, running this (by clicking run or pressing Shift+Enter) will list all files under the input directory\n",
    "import pickle\n",
    "import os\n",
    "import mlflow\n",
    "import mlflow.sklearn\n",
    "\n",
    "import joblib\n",
    "\n",
    "# You can write up to 20GB to the current directory (/kaggle/working/) that gets preserved as output when you create a version using \"Save & Run All\" \n",
    "# You can also write temporary files to /kaggle/temp/, but they won't be saved outside of the current session"
   ]
  },
  {
   "cell_type": "code",
   "execution_count": 2,
   "id": "d0450238-2fab-4834-b9fe-62a74d098921",
   "metadata": {},
   "outputs": [],
   "source": [
    "from sklearn.preprocessing import StandardScaler, OneHotEncoder"
   ]
  },
  {
   "cell_type": "code",
   "execution_count": 3,
   "id": "03906ae7-d7c0-4a69-ba26-02aab8ba8d9e",
   "metadata": {},
   "outputs": [],
   "source": [
    "from sklearn.metrics import roc_auc_score"
   ]
  },
  {
   "cell_type": "code",
   "execution_count": 4,
   "id": "determined-louisiana",
   "metadata": {
    "papermill": {
     "duration": 0.993166,
     "end_time": "2021-06-21T10:44:34.468404",
     "exception": false,
     "start_time": "2021-06-21T10:44:33.475238",
     "status": "completed"
    },
    "tags": []
   },
   "outputs": [],
   "source": [
    "# Importing Important Libraries\n",
    "\n",
    "import matplotlib.pyplot as plt # for visualization\n",
    "import seaborn as sns # for visualization\n",
    "%matplotlib inline"
   ]
  },
  {
   "cell_type": "code",
   "execution_count": 5,
   "id": "american-button",
   "metadata": {
    "papermill": {
     "duration": 0.977248,
     "end_time": "2021-06-21T10:44:35.500375",
     "exception": false,
     "start_time": "2021-06-21T10:44:34.523127",
     "status": "completed"
    },
    "tags": []
   },
   "outputs": [],
   "source": [
    "\n",
    "import configparser\n",
    "path_root=\"/home/cdsw\"\n",
    "USER_PREFIX='jvp'\n",
    "\n",
    "config = configparser.ConfigParser()\n",
    "config.read(f\"{path_root}/parameters.conf\")\n",
    "data_lake_name=config.get(\"general\",\"data_lake_name\")\n",
    "s3BucketName=config.get(\"general\",\"s3BucketName\")\n",
    "train_tablename=config.get(\"general\",\"train_tablename\")\n",
    "test_tablename=config.get(\"general\",\"test_tablename\")\n",
    "experimentName = f\"{USER_PREFIX}_{config.get('general','experimentName')}\"\n",
    "\n",
    "database =f\"{USER_PREFIX}_{config.get('general','database')}\"\n",
    "srcdir=s3BucketName"
   ]
  },
  {
   "cell_type": "code",
   "execution_count": 6,
   "id": "68610909-6ef5-424e-a16a-d475d6c946f1",
   "metadata": {},
   "outputs": [
    {
     "name": "stderr",
     "output_type": "stream",
     "text": [
      "Setting spark.hadoop.yarn.resourcemanager.principal to csso_ozarate\n"
     ]
    },
    {
     "name": "stdout",
     "output_type": "stream",
     "text": [
      "Spark Application Id:spark-application-1727750301642\n"
     ]
    },
    {
     "name": "stderr",
     "output_type": "stream",
     "text": [
      "Hive Session ID = c38ad63f-6a94-41f4-b97e-767eaf5057db\n"
     ]
    },
    {
     "name": "stdout",
     "output_type": "stream",
     "text": [
      "+------------------+\n",
      "|         namespace|\n",
      "+------------------+\n",
      "|           default|\n",
      "|information_schema|\n",
      "| jvp_cc_lead_model|\n",
      "| ofz_cc_lead_model|\n",
      "|               sys|\n",
      "+------------------+\n",
      "\n"
     ]
    }
   ],
   "source": [
    "# Click on the Data icon at the top of the window and click the \"Spark Data Lake\" button\n",
    "# click on the copy code button and paste the contents below.\n",
    "\n",
    "import cml.data_v1 as cmldata\n",
    "\n",
    "# Sample in-code customization of spark configurations\n",
    "#from pyspark import SparkContext\n",
    "#SparkContext.setSystemProperty('spark.executor.cores', '1')\n",
    "#SparkContext.setSystemProperty('spark.executor.memory', '2g')\n",
    "\n",
    "CONNECTION_NAME = \"jqrhv9chljtm\"\n",
    "conn = cmldata.get_connection(CONNECTION_NAME)\n",
    "spark = conn.get_spark_session()\n",
    "\n",
    "# Sample usage to run query through spark\n",
    "EXAMPLE_SQL_QUERY = \"show databases\"\n",
    "spark.sql(EXAMPLE_SQL_QUERY).show()\n",
    "\n"
   ]
  },
  {
   "cell_type": "code",
   "execution_count": 7,
   "id": "1ad939fe-cd0a-4021-8c04-9c3ce7395671",
   "metadata": {},
   "outputs": [],
   "source": [
    "from __future__ import print_function\n",
    "import os\n",
    "import sys\n",
    "from pyspark.sql import SparkSession\n",
    "import time"
   ]
  },
  {
   "cell_type": "code",
   "execution_count": 8,
   "id": "b47b19a7-f1a2-4990-a335-4f1184cc5624",
   "metadata": {},
   "outputs": [],
   "source": [
    "spark = (\n",
    "  SparkSession.builder.appName(\"CCLead-Data-Loader\")\n",
    "  .config(\"spark.sql.hive.hwc.execution.mode\", \"spark\")\n",
    "  .config(\"spark.sql.extensions\", \"com.qubole.spark.hiveacid.HiveAcidAutoConvertExtension, org.apache.iceberg.spark.extensions.IcebergSparkSessionExtensions\")\n",
    "  .config(\"spark.sql.catalog.spark_catalog.type\", \"hive\")\n",
    "  .config(\"spark.sql.catalog.spark_catalog\", \"org.apache.iceberg.spark.SparkSessionCatalog\")\n",
    "  .config(\"spark.yarn.access.hadoopFileSystems\", data_lake_name)\n",
    "  .config(\"spark.hadoop.iceberg.engine.hive.enabled\", \"true\")\n",
    "  .config(\"spark.jars\", \"/opt/spark/optional-lib/iceberg-spark-runtime.jar\")\n",
    "  .getOrCreate()\n",
    "  )\n",
    "\n"
   ]
  },
  {
   "cell_type": "code",
   "execution_count": 9,
   "id": "4aea304b-56cf-425f-9e4a-4cd138ad47fa",
   "metadata": {},
   "outputs": [
    {
     "name": "stdout",
     "output_type": "stream",
     "text": [
      "+------------------+\n",
      "|         namespace|\n",
      "+------------------+\n",
      "|           default|\n",
      "|information_schema|\n",
      "| jvp_cc_lead_model|\n",
      "| ofz_cc_lead_model|\n",
      "|               sys|\n",
      "+------------------+\n",
      "\n"
     ]
    },
    {
     "name": "stderr",
     "output_type": "stream",
     "text": [
      "[Stage 0:>                                                          (0 + 1) / 1]\r"
     ]
    },
    {
     "name": "stdout",
     "output_type": "stream",
     "text": [
      "+--------------------+-------------------+-------------------+---------+--------------------+--------------------+\n",
      "|        committed_at|        snapshot_id|          parent_id|operation|       manifest_list|             summary|\n",
      "+--------------------+-------------------+-------------------+---------+--------------------+--------------------+\n",
      "|2024-09-25 17:58:...|7358846949846510102|               null|   append|s3a://jqrhv9chljt...|{spark.app.id -> ...|\n",
      "|2024-09-25 18:01:...|  21885554618766449|7358846949846510102|   append|s3a://jqrhv9chljt...|{spark.app.id -> ...|\n",
      "|2024-09-25 18:02:...|3253701813602397880|  21885554618766449|   append|s3a://jqrhv9chljt...|{spark.app.id -> ...|\n",
      "|2024-09-25 18:03:...|6254399732127111263|3253701813602397880|   append|s3a://jqrhv9chljt...|{spark.app.id -> ...|\n",
      "|2024-09-25 18:03:...|8629958596460495146|6254399732127111263|   append|s3a://jqrhv9chljt...|{spark.app.id -> ...|\n",
      "+--------------------+-------------------+-------------------+---------+--------------------+--------------------+\n",
      "\n"
     ]
    },
    {
     "name": "stderr",
     "output_type": "stream",
     "text": [
      "                                                                                \r"
     ]
    }
   ],
   "source": [
    "# Sample usage to run query through spark\n",
    "EXAMPLE_SQL_QUERY = \"show databases\"\n",
    "spark.sql(EXAMPLE_SQL_QUERY).show()\n",
    "spark.sql(f\"SELECT * FROM {database}.{train_tablename}.snapshots\").show();"
   ]
  },
  {
   "cell_type": "code",
   "execution_count": 10,
   "id": "a04d8499-0001-450e-a3c9-5f1ed56e0854",
   "metadata": {},
   "outputs": [],
   "source": [
    "# Pick the last snapshot_id on the list above and replace the 9999999999999999999. \n",
    "first_snapshot=8629958596460495146"
   ]
  },
  {
   "cell_type": "code",
   "execution_count": 11,
   "id": "2da30d5c-0ee4-49e6-a808-fcabfff0e2da",
   "metadata": {},
   "outputs": [
    {
     "name": "stderr",
     "output_type": "stream",
     "text": [
      "                                                                                \r"
     ]
    },
    {
     "data": {
      "text/plain": [
       "245725"
      ]
     },
     "execution_count": 11,
     "metadata": {},
     "output_type": "execute_result"
    }
   ],
   "source": [
    "train = spark.read\\\n",
    "    .option(\"snapshot-id\", first_snapshot)\\\n",
    "    .format(\"iceberg\")\\\n",
    "    .load(f\"{database}.{train_tablename}\").toPandas()\n",
    "    # show the number of rows - should be 2449\n",
    "train.shape[0]"
   ]
  },
  {
   "cell_type": "code",
   "execution_count": 12,
   "id": "intended-offset",
   "metadata": {
    "papermill": {
     "duration": 0.103692,
     "end_time": "2021-06-21T10:44:35.658539",
     "exception": false,
     "start_time": "2021-06-21T10:44:35.554847",
     "status": "completed"
    },
    "tags": []
   },
   "outputs": [
    {
     "data": {
      "text/html": [
       "<div>\n",
       "<style scoped>\n",
       "    .dataframe tbody tr th:only-of-type {\n",
       "        vertical-align: middle;\n",
       "    }\n",
       "\n",
       "    .dataframe tbody tr th {\n",
       "        vertical-align: top;\n",
       "    }\n",
       "\n",
       "    .dataframe thead th {\n",
       "        text-align: right;\n",
       "    }\n",
       "</style>\n",
       "<table border=\"1\" class=\"dataframe\">\n",
       "  <thead>\n",
       "    <tr style=\"text-align: right;\">\n",
       "      <th></th>\n",
       "      <th>ID</th>\n",
       "      <th>Gender</th>\n",
       "      <th>Age</th>\n",
       "      <th>Region_Code</th>\n",
       "      <th>Occupation</th>\n",
       "      <th>Channel_Code</th>\n",
       "      <th>Vintage</th>\n",
       "      <th>Credit_Product</th>\n",
       "      <th>Avg_Account_Balance</th>\n",
       "      <th>Is_Active</th>\n",
       "      <th>Is_Lead</th>\n",
       "    </tr>\n",
       "  </thead>\n",
       "  <tbody>\n",
       "    <tr>\n",
       "      <th>0</th>\n",
       "      <td>9RC4RMFI</td>\n",
       "      <td>Male</td>\n",
       "      <td>30</td>\n",
       "      <td>RG279</td>\n",
       "      <td>Self_Employed</td>\n",
       "      <td>X1</td>\n",
       "      <td>31</td>\n",
       "      <td>No</td>\n",
       "      <td>533759</td>\n",
       "      <td>No</td>\n",
       "      <td>0</td>\n",
       "    </tr>\n",
       "    <tr>\n",
       "      <th>1</th>\n",
       "      <td>LJ2UOGQP</td>\n",
       "      <td>Female</td>\n",
       "      <td>26</td>\n",
       "      <td>RG280</td>\n",
       "      <td>Salaried</td>\n",
       "      <td>X1</td>\n",
       "      <td>14</td>\n",
       "      <td>Yes</td>\n",
       "      <td>731811</td>\n",
       "      <td>No</td>\n",
       "      <td>0</td>\n",
       "    </tr>\n",
       "    <tr>\n",
       "      <th>2</th>\n",
       "      <td>MJCHTWFV</td>\n",
       "      <td>Male</td>\n",
       "      <td>26</td>\n",
       "      <td>RG267</td>\n",
       "      <td>Other</td>\n",
       "      <td>X1</td>\n",
       "      <td>26</td>\n",
       "      <td>Yes</td>\n",
       "      <td>475687</td>\n",
       "      <td>No</td>\n",
       "      <td>0</td>\n",
       "    </tr>\n",
       "    <tr>\n",
       "      <th>3</th>\n",
       "      <td>GXCCJKBS</td>\n",
       "      <td>Female</td>\n",
       "      <td>48</td>\n",
       "      <td>RG257</td>\n",
       "      <td>Self_Employed</td>\n",
       "      <td>X3</td>\n",
       "      <td>97</td>\n",
       "      <td>None</td>\n",
       "      <td>510210</td>\n",
       "      <td>No</td>\n",
       "      <td>1</td>\n",
       "    </tr>\n",
       "    <tr>\n",
       "      <th>4</th>\n",
       "      <td>GJCJQAKF</td>\n",
       "      <td>Female</td>\n",
       "      <td>30</td>\n",
       "      <td>RG279</td>\n",
       "      <td>Other</td>\n",
       "      <td>X1</td>\n",
       "      <td>15</td>\n",
       "      <td>No</td>\n",
       "      <td>453677</td>\n",
       "      <td>Yes</td>\n",
       "      <td>0</td>\n",
       "    </tr>\n",
       "  </tbody>\n",
       "</table>\n",
       "</div>"
      ],
      "text/plain": [
       "         ID  Gender  Age Region_Code     Occupation Channel_Code  Vintage  \\\n",
       "0  9RC4RMFI    Male   30       RG279  Self_Employed           X1       31   \n",
       "1  LJ2UOGQP  Female   26       RG280       Salaried           X1       14   \n",
       "2  MJCHTWFV    Male   26       RG267          Other           X1       26   \n",
       "3  GXCCJKBS  Female   48       RG257  Self_Employed           X3       97   \n",
       "4  GJCJQAKF  Female   30       RG279          Other           X1       15   \n",
       "\n",
       "  Credit_Product  Avg_Account_Balance Is_Active  Is_Lead  \n",
       "0             No               533759        No        0  \n",
       "1            Yes               731811        No        0  \n",
       "2            Yes               475687        No        0  \n",
       "3           None               510210        No        1  \n",
       "4             No               453677       Yes        0  "
      ]
     },
     "execution_count": 12,
     "metadata": {},
     "output_type": "execute_result"
    }
   ],
   "source": [
    "train.head()"
   ]
  },
  {
   "cell_type": "code",
   "execution_count": 13,
   "id": "earlier-there",
   "metadata": {
    "papermill": {
     "duration": 0.066722,
     "end_time": "2021-06-21T10:44:35.783673",
     "exception": false,
     "start_time": "2021-06-21T10:44:35.716951",
     "status": "completed"
    },
    "tags": []
   },
   "outputs": [
    {
     "data": {
      "text/plain": [
       "(245725, 11)"
      ]
     },
     "execution_count": 13,
     "metadata": {},
     "output_type": "execute_result"
    }
   ],
   "source": [
    "train.shape"
   ]
  },
  {
   "cell_type": "code",
   "execution_count": 14,
   "id": "b89a3b3e-5d04-4035-b56f-180784dbfd35",
   "metadata": {},
   "outputs": [
    {
     "data": {
      "text/plain": [
       "105312"
      ]
     },
     "execution_count": 14,
     "metadata": {},
     "output_type": "execute_result"
    }
   ],
   "source": [
    "test = spark.read\\\n",
    "    .format(\"iceberg\")\\\n",
    "    .load(f\"{database}.{test_tablename}\").toPandas()\n",
    "    # show the number of rows - should be 2449\n",
    "test.shape[0]"
   ]
  },
  {
   "cell_type": "code",
   "execution_count": 15,
   "id": "extended-simpson",
   "metadata": {
    "papermill": {
     "duration": 0.078137,
     "end_time": "2021-06-21T10:44:35.918803",
     "exception": false,
     "start_time": "2021-06-21T10:44:35.840666",
     "status": "completed"
    },
    "tags": []
   },
   "outputs": [
    {
     "data": {
      "text/html": [
       "<div>\n",
       "<style scoped>\n",
       "    .dataframe tbody tr th:only-of-type {\n",
       "        vertical-align: middle;\n",
       "    }\n",
       "\n",
       "    .dataframe tbody tr th {\n",
       "        vertical-align: top;\n",
       "    }\n",
       "\n",
       "    .dataframe thead th {\n",
       "        text-align: right;\n",
       "    }\n",
       "</style>\n",
       "<table border=\"1\" class=\"dataframe\">\n",
       "  <thead>\n",
       "    <tr style=\"text-align: right;\">\n",
       "      <th></th>\n",
       "      <th>ID</th>\n",
       "      <th>Gender</th>\n",
       "      <th>Age</th>\n",
       "      <th>Region_Code</th>\n",
       "      <th>Occupation</th>\n",
       "      <th>Channel_Code</th>\n",
       "      <th>Vintage</th>\n",
       "      <th>Credit_Product</th>\n",
       "      <th>Avg_Account_Balance</th>\n",
       "      <th>Is_Active</th>\n",
       "    </tr>\n",
       "  </thead>\n",
       "  <tbody>\n",
       "    <tr>\n",
       "      <th>0</th>\n",
       "      <td>VBENBARO</td>\n",
       "      <td>Male</td>\n",
       "      <td>29</td>\n",
       "      <td>RG254</td>\n",
       "      <td>Other</td>\n",
       "      <td>X1</td>\n",
       "      <td>25</td>\n",
       "      <td>Yes</td>\n",
       "      <td>742366</td>\n",
       "      <td>No</td>\n",
       "    </tr>\n",
       "    <tr>\n",
       "      <th>1</th>\n",
       "      <td>CCMEWNKY</td>\n",
       "      <td>Male</td>\n",
       "      <td>43</td>\n",
       "      <td>RG268</td>\n",
       "      <td>Other</td>\n",
       "      <td>X2</td>\n",
       "      <td>49</td>\n",
       "      <td>None</td>\n",
       "      <td>925537</td>\n",
       "      <td>No</td>\n",
       "    </tr>\n",
       "    <tr>\n",
       "      <th>2</th>\n",
       "      <td>VK3KGA9M</td>\n",
       "      <td>Male</td>\n",
       "      <td>31</td>\n",
       "      <td>RG270</td>\n",
       "      <td>Salaried</td>\n",
       "      <td>X1</td>\n",
       "      <td>14</td>\n",
       "      <td>No</td>\n",
       "      <td>215949</td>\n",
       "      <td>No</td>\n",
       "    </tr>\n",
       "    <tr>\n",
       "      <th>3</th>\n",
       "      <td>TT8RPZVC</td>\n",
       "      <td>Male</td>\n",
       "      <td>29</td>\n",
       "      <td>RG272</td>\n",
       "      <td>Other</td>\n",
       "      <td>X1</td>\n",
       "      <td>33</td>\n",
       "      <td>No</td>\n",
       "      <td>868070</td>\n",
       "      <td>No</td>\n",
       "    </tr>\n",
       "    <tr>\n",
       "      <th>4</th>\n",
       "      <td>SHQZEYTZ</td>\n",
       "      <td>Female</td>\n",
       "      <td>29</td>\n",
       "      <td>RG270</td>\n",
       "      <td>Other</td>\n",
       "      <td>X1</td>\n",
       "      <td>19</td>\n",
       "      <td>No</td>\n",
       "      <td>657087</td>\n",
       "      <td>No</td>\n",
       "    </tr>\n",
       "  </tbody>\n",
       "</table>\n",
       "</div>"
      ],
      "text/plain": [
       "         ID  Gender  Age Region_Code Occupation Channel_Code  Vintage  \\\n",
       "0  VBENBARO    Male   29       RG254      Other           X1       25   \n",
       "1  CCMEWNKY    Male   43       RG268      Other           X2       49   \n",
       "2  VK3KGA9M    Male   31       RG270   Salaried           X1       14   \n",
       "3  TT8RPZVC    Male   29       RG272      Other           X1       33   \n",
       "4  SHQZEYTZ  Female   29       RG270      Other           X1       19   \n",
       "\n",
       "  Credit_Product  Avg_Account_Balance Is_Active  \n",
       "0            Yes               742366        No  \n",
       "1           None               925537        No  \n",
       "2             No               215949        No  \n",
       "3             No               868070        No  \n",
       "4             No               657087        No  "
      ]
     },
     "execution_count": 15,
     "metadata": {},
     "output_type": "execute_result"
    }
   ],
   "source": [
    "test.head()"
   ]
  },
  {
   "cell_type": "code",
   "execution_count": 16,
   "id": "limited-michigan",
   "metadata": {
    "papermill": {
     "duration": 0.065813,
     "end_time": "2021-06-21T10:44:36.044526",
     "exception": false,
     "start_time": "2021-06-21T10:44:35.978713",
     "status": "completed"
    },
    "tags": []
   },
   "outputs": [
    {
     "data": {
      "text/plain": [
       "(105312, 10)"
      ]
     },
     "execution_count": 16,
     "metadata": {},
     "output_type": "execute_result"
    }
   ],
   "source": [
    "test.shape"
   ]
  },
  {
   "cell_type": "code",
   "execution_count": 17,
   "id": "impaired-penetration",
   "metadata": {
    "papermill": {
     "duration": 0.2508,
     "end_time": "2021-06-21T10:44:36.352159",
     "exception": false,
     "start_time": "2021-06-21T10:44:36.101359",
     "status": "completed"
    },
    "tags": []
   },
   "outputs": [
    {
     "name": "stdout",
     "output_type": "stream",
     "text": [
      "<class 'pandas.core.frame.DataFrame'>\n",
      "RangeIndex: 245725 entries, 0 to 245724\n",
      "Data columns (total 11 columns):\n",
      " #   Column               Non-Null Count   Dtype \n",
      "---  ------               --------------   ----- \n",
      " 0   ID                   245725 non-null  object\n",
      " 1   Gender               245725 non-null  object\n",
      " 2   Age                  245725 non-null  int32 \n",
      " 3   Region_Code          245725 non-null  object\n",
      " 4   Occupation           245725 non-null  object\n",
      " 5   Channel_Code         245725 non-null  object\n",
      " 6   Vintage              245725 non-null  int32 \n",
      " 7   Credit_Product       216400 non-null  object\n",
      " 8   Avg_Account_Balance  245725 non-null  int32 \n",
      " 9   Is_Active            245725 non-null  object\n",
      " 10  Is_Lead              245725 non-null  int32 \n",
      "dtypes: int32(4), object(7)\n",
      "memory usage: 16.9+ MB\n"
     ]
    }
   ],
   "source": [
    "train.info()"
   ]
  },
  {
   "cell_type": "markdown",
   "id": "numeric-identification",
   "metadata": {
    "papermill": {
     "duration": 0.055816,
     "end_time": "2021-06-21T10:44:36.465415",
     "exception": false,
     "start_time": "2021-06-21T10:44:36.409599",
     "status": "completed"
    },
    "tags": []
   },
   "source": [
    "*The above information shows that there are nine features to predict the customer's interests in the recommended credit cards.*\n",
    "\n",
    "*In train dataset there are 245725 observations and 9 features and 1 target column.*"
   ]
  },
  {
   "cell_type": "code",
   "execution_count": 18,
   "id": "static-oxford",
   "metadata": {
    "papermill": {
     "duration": 0.14942,
     "end_time": "2021-06-21T10:44:36.671426",
     "exception": false,
     "start_time": "2021-06-21T10:44:36.522006",
     "status": "completed"
    },
    "tags": []
   },
   "outputs": [
    {
     "name": "stdout",
     "output_type": "stream",
     "text": [
      "<class 'pandas.core.frame.DataFrame'>\n",
      "RangeIndex: 105312 entries, 0 to 105311\n",
      "Data columns (total 10 columns):\n",
      " #   Column               Non-Null Count   Dtype \n",
      "---  ------               --------------   ----- \n",
      " 0   ID                   105312 non-null  object\n",
      " 1   Gender               105312 non-null  object\n",
      " 2   Age                  105312 non-null  int32 \n",
      " 3   Region_Code          105312 non-null  object\n",
      " 4   Occupation           105312 non-null  object\n",
      " 5   Channel_Code         105312 non-null  object\n",
      " 6   Vintage              105312 non-null  int32 \n",
      " 7   Credit_Product       92790 non-null   object\n",
      " 8   Avg_Account_Balance  105312 non-null  int32 \n",
      " 9   Is_Active            105312 non-null  object\n",
      "dtypes: int32(3), object(7)\n",
      "memory usage: 6.8+ MB\n"
     ]
    }
   ],
   "source": [
    "test.info()"
   ]
  },
  {
   "cell_type": "markdown",
   "id": "friendly-anthropology",
   "metadata": {
    "papermill": {
     "duration": 0.082563,
     "end_time": "2021-06-21T10:44:36.817106",
     "exception": false,
     "start_time": "2021-06-21T10:44:36.734543",
     "status": "completed"
    },
    "tags": []
   },
   "source": [
    "*The test dataset contains 105312 obsevations and 9 features.*"
   ]
  },
  {
   "cell_type": "code",
   "execution_count": 19,
   "id": "general-quick",
   "metadata": {
    "papermill": {
     "duration": 0.127703,
     "end_time": "2021-06-21T10:44:37.009054",
     "exception": false,
     "start_time": "2021-06-21T10:44:36.881351",
     "status": "completed"
    },
    "tags": []
   },
   "outputs": [
    {
     "data": {
      "text/html": [
       "<div>\n",
       "<style scoped>\n",
       "    .dataframe tbody tr th:only-of-type {\n",
       "        vertical-align: middle;\n",
       "    }\n",
       "\n",
       "    .dataframe tbody tr th {\n",
       "        vertical-align: top;\n",
       "    }\n",
       "\n",
       "    .dataframe thead th {\n",
       "        text-align: right;\n",
       "    }\n",
       "</style>\n",
       "<table border=\"1\" class=\"dataframe\">\n",
       "  <thead>\n",
       "    <tr style=\"text-align: right;\">\n",
       "      <th></th>\n",
       "      <th>Age</th>\n",
       "      <th>Vintage</th>\n",
       "      <th>Avg_Account_Balance</th>\n",
       "      <th>Is_Lead</th>\n",
       "    </tr>\n",
       "  </thead>\n",
       "  <tbody>\n",
       "    <tr>\n",
       "      <th>count</th>\n",
       "      <td>245725.000000</td>\n",
       "      <td>245725.000000</td>\n",
       "      <td>2.457250e+05</td>\n",
       "      <td>245725.000000</td>\n",
       "    </tr>\n",
       "    <tr>\n",
       "      <th>mean</th>\n",
       "      <td>43.856307</td>\n",
       "      <td>46.959141</td>\n",
       "      <td>1.128403e+06</td>\n",
       "      <td>0.237208</td>\n",
       "    </tr>\n",
       "    <tr>\n",
       "      <th>std</th>\n",
       "      <td>14.828672</td>\n",
       "      <td>32.353136</td>\n",
       "      <td>8.529364e+05</td>\n",
       "      <td>0.425372</td>\n",
       "    </tr>\n",
       "    <tr>\n",
       "      <th>min</th>\n",
       "      <td>23.000000</td>\n",
       "      <td>7.000000</td>\n",
       "      <td>2.079000e+04</td>\n",
       "      <td>0.000000</td>\n",
       "    </tr>\n",
       "    <tr>\n",
       "      <th>25%</th>\n",
       "      <td>30.000000</td>\n",
       "      <td>20.000000</td>\n",
       "      <td>6.043100e+05</td>\n",
       "      <td>0.000000</td>\n",
       "    </tr>\n",
       "    <tr>\n",
       "      <th>50%</th>\n",
       "      <td>43.000000</td>\n",
       "      <td>32.000000</td>\n",
       "      <td>8.946010e+05</td>\n",
       "      <td>0.000000</td>\n",
       "    </tr>\n",
       "    <tr>\n",
       "      <th>75%</th>\n",
       "      <td>54.000000</td>\n",
       "      <td>73.000000</td>\n",
       "      <td>1.366666e+06</td>\n",
       "      <td>0.000000</td>\n",
       "    </tr>\n",
       "    <tr>\n",
       "      <th>max</th>\n",
       "      <td>85.000000</td>\n",
       "      <td>135.000000</td>\n",
       "      <td>1.035201e+07</td>\n",
       "      <td>1.000000</td>\n",
       "    </tr>\n",
       "  </tbody>\n",
       "</table>\n",
       "</div>"
      ],
      "text/plain": [
       "                 Age        Vintage  Avg_Account_Balance        Is_Lead\n",
       "count  245725.000000  245725.000000         2.457250e+05  245725.000000\n",
       "mean       43.856307      46.959141         1.128403e+06       0.237208\n",
       "std        14.828672      32.353136         8.529364e+05       0.425372\n",
       "min        23.000000       7.000000         2.079000e+04       0.000000\n",
       "25%        30.000000      20.000000         6.043100e+05       0.000000\n",
       "50%        43.000000      32.000000         8.946010e+05       0.000000\n",
       "75%        54.000000      73.000000         1.366666e+06       0.000000\n",
       "max        85.000000     135.000000         1.035201e+07       1.000000"
      ]
     },
     "execution_count": 19,
     "metadata": {},
     "output_type": "execute_result"
    }
   ],
   "source": [
    "# Let's see a statistical summary of the numerical columns in the train and test dataset.\n",
    "\n",
    "train.describe()"
   ]
  },
  {
   "cell_type": "markdown",
   "id": "scenic-waste",
   "metadata": {
    "papermill": {
     "duration": 0.059853,
     "end_time": "2021-06-21T10:44:37.128347",
     "exception": false,
     "start_time": "2021-06-21T10:44:37.068494",
     "status": "completed"
    },
    "tags": []
   },
   "source": [
    "***The above summary shows that the average age of the customers who are eligible to take credit cards is 43 and the minimum age is 23 and the maximum age is 85.***\n",
    "\n",
    "***Vintage is how long the eligible customers have been on the bank records.The average is 3 year 8 months and the minimum is 7 months, the maximum year is 11 years(135 months)***"
   ]
  },
  {
   "cell_type": "code",
   "execution_count": 20,
   "id": "scheduled-breed",
   "metadata": {
    "papermill": {
     "duration": 0.093652,
     "end_time": "2021-06-21T10:44:37.280016",
     "exception": false,
     "start_time": "2021-06-21T10:44:37.186364",
     "status": "completed"
    },
    "tags": []
   },
   "outputs": [
    {
     "data": {
      "text/html": [
       "<div>\n",
       "<style scoped>\n",
       "    .dataframe tbody tr th:only-of-type {\n",
       "        vertical-align: middle;\n",
       "    }\n",
       "\n",
       "    .dataframe tbody tr th {\n",
       "        vertical-align: top;\n",
       "    }\n",
       "\n",
       "    .dataframe thead th {\n",
       "        text-align: right;\n",
       "    }\n",
       "</style>\n",
       "<table border=\"1\" class=\"dataframe\">\n",
       "  <thead>\n",
       "    <tr style=\"text-align: right;\">\n",
       "      <th></th>\n",
       "      <th>Age</th>\n",
       "      <th>Vintage</th>\n",
       "      <th>Avg_Account_Balance</th>\n",
       "    </tr>\n",
       "  </thead>\n",
       "  <tbody>\n",
       "    <tr>\n",
       "      <th>count</th>\n",
       "      <td>105312.000000</td>\n",
       "      <td>105312.000000</td>\n",
       "      <td>1.053120e+05</td>\n",
       "    </tr>\n",
       "    <tr>\n",
       "      <th>mean</th>\n",
       "      <td>43.871002</td>\n",
       "      <td>46.842819</td>\n",
       "      <td>1.134195e+06</td>\n",
       "    </tr>\n",
       "    <tr>\n",
       "      <th>std</th>\n",
       "      <td>14.872890</td>\n",
       "      <td>32.273634</td>\n",
       "      <td>8.662430e+05</td>\n",
       "    </tr>\n",
       "    <tr>\n",
       "      <th>min</th>\n",
       "      <td>24.000000</td>\n",
       "      <td>7.000000</td>\n",
       "      <td>2.259700e+04</td>\n",
       "    </tr>\n",
       "    <tr>\n",
       "      <th>25%</th>\n",
       "      <td>30.000000</td>\n",
       "      <td>20.000000</td>\n",
       "      <td>6.039822e+05</td>\n",
       "    </tr>\n",
       "    <tr>\n",
       "      <th>50%</th>\n",
       "      <td>43.000000</td>\n",
       "      <td>32.000000</td>\n",
       "      <td>8.966345e+05</td>\n",
       "    </tr>\n",
       "    <tr>\n",
       "      <th>75%</th>\n",
       "      <td>54.000000</td>\n",
       "      <td>73.000000</td>\n",
       "      <td>1.371598e+06</td>\n",
       "    </tr>\n",
       "    <tr>\n",
       "      <th>max</th>\n",
       "      <td>85.000000</td>\n",
       "      <td>135.000000</td>\n",
       "      <td>9.908858e+06</td>\n",
       "    </tr>\n",
       "  </tbody>\n",
       "</table>\n",
       "</div>"
      ],
      "text/plain": [
       "                 Age        Vintage  Avg_Account_Balance\n",
       "count  105312.000000  105312.000000         1.053120e+05\n",
       "mean       43.871002      46.842819         1.134195e+06\n",
       "std        14.872890      32.273634         8.662430e+05\n",
       "min        24.000000       7.000000         2.259700e+04\n",
       "25%        30.000000      20.000000         6.039822e+05\n",
       "50%        43.000000      32.000000         8.966345e+05\n",
       "75%        54.000000      73.000000         1.371598e+06\n",
       "max        85.000000     135.000000         9.908858e+06"
      ]
     },
     "execution_count": 20,
     "metadata": {},
     "output_type": "execute_result"
    }
   ],
   "source": [
    "test.describe()"
   ]
  },
  {
   "cell_type": "markdown",
   "id": "atomic-cleanup",
   "metadata": {
    "papermill": {
     "duration": 0.07346,
     "end_time": "2021-06-21T10:44:48.332377",
     "exception": false,
     "start_time": "2021-06-21T10:44:48.258917",
     "status": "completed"
    },
    "tags": []
   },
   "source": [
    "## *Data Preprocessing*"
   ]
  },
  {
   "cell_type": "code",
   "execution_count": 21,
   "id": "random-confirmation",
   "metadata": {
    "papermill": {
     "duration": 0.096599,
     "end_time": "2021-06-21T10:44:48.503837",
     "exception": false,
     "start_time": "2021-06-21T10:44:48.407238",
     "status": "completed"
    },
    "tags": []
   },
   "outputs": [
    {
     "data": {
      "text/html": [
       "<div>\n",
       "<style scoped>\n",
       "    .dataframe tbody tr th:only-of-type {\n",
       "        vertical-align: middle;\n",
       "    }\n",
       "\n",
       "    .dataframe tbody tr th {\n",
       "        vertical-align: top;\n",
       "    }\n",
       "\n",
       "    .dataframe thead th {\n",
       "        text-align: right;\n",
       "    }\n",
       "</style>\n",
       "<table border=\"1\" class=\"dataframe\">\n",
       "  <thead>\n",
       "    <tr style=\"text-align: right;\">\n",
       "      <th></th>\n",
       "      <th>ID</th>\n",
       "      <th>Gender</th>\n",
       "      <th>Age</th>\n",
       "      <th>Region_Code</th>\n",
       "      <th>Occupation</th>\n",
       "      <th>Channel_Code</th>\n",
       "      <th>Vintage</th>\n",
       "      <th>Credit_Product</th>\n",
       "      <th>Avg_Account_Balance</th>\n",
       "      <th>Is_Active</th>\n",
       "      <th>Is_Lead</th>\n",
       "    </tr>\n",
       "  </thead>\n",
       "  <tbody>\n",
       "    <tr>\n",
       "      <th>0</th>\n",
       "      <td>9RC4RMFI</td>\n",
       "      <td>Male</td>\n",
       "      <td>30</td>\n",
       "      <td>RG279</td>\n",
       "      <td>Self_Employed</td>\n",
       "      <td>X1</td>\n",
       "      <td>31</td>\n",
       "      <td>No</td>\n",
       "      <td>533759</td>\n",
       "      <td>No</td>\n",
       "      <td>0</td>\n",
       "    </tr>\n",
       "    <tr>\n",
       "      <th>1</th>\n",
       "      <td>LJ2UOGQP</td>\n",
       "      <td>Female</td>\n",
       "      <td>26</td>\n",
       "      <td>RG280</td>\n",
       "      <td>Salaried</td>\n",
       "      <td>X1</td>\n",
       "      <td>14</td>\n",
       "      <td>Yes</td>\n",
       "      <td>731811</td>\n",
       "      <td>No</td>\n",
       "      <td>0</td>\n",
       "    </tr>\n",
       "    <tr>\n",
       "      <th>2</th>\n",
       "      <td>MJCHTWFV</td>\n",
       "      <td>Male</td>\n",
       "      <td>26</td>\n",
       "      <td>RG267</td>\n",
       "      <td>Other</td>\n",
       "      <td>X1</td>\n",
       "      <td>26</td>\n",
       "      <td>Yes</td>\n",
       "      <td>475687</td>\n",
       "      <td>No</td>\n",
       "      <td>0</td>\n",
       "    </tr>\n",
       "    <tr>\n",
       "      <th>3</th>\n",
       "      <td>GXCCJKBS</td>\n",
       "      <td>Female</td>\n",
       "      <td>48</td>\n",
       "      <td>RG257</td>\n",
       "      <td>Self_Employed</td>\n",
       "      <td>X3</td>\n",
       "      <td>97</td>\n",
       "      <td>None</td>\n",
       "      <td>510210</td>\n",
       "      <td>No</td>\n",
       "      <td>1</td>\n",
       "    </tr>\n",
       "    <tr>\n",
       "      <th>4</th>\n",
       "      <td>GJCJQAKF</td>\n",
       "      <td>Female</td>\n",
       "      <td>30</td>\n",
       "      <td>RG279</td>\n",
       "      <td>Other</td>\n",
       "      <td>X1</td>\n",
       "      <td>15</td>\n",
       "      <td>No</td>\n",
       "      <td>453677</td>\n",
       "      <td>Yes</td>\n",
       "      <td>0</td>\n",
       "    </tr>\n",
       "  </tbody>\n",
       "</table>\n",
       "</div>"
      ],
      "text/plain": [
       "         ID  Gender  Age Region_Code     Occupation Channel_Code  Vintage  \\\n",
       "0  9RC4RMFI    Male   30       RG279  Self_Employed           X1       31   \n",
       "1  LJ2UOGQP  Female   26       RG280       Salaried           X1       14   \n",
       "2  MJCHTWFV    Male   26       RG267          Other           X1       26   \n",
       "3  GXCCJKBS  Female   48       RG257  Self_Employed           X3       97   \n",
       "4  GJCJQAKF  Female   30       RG279          Other           X1       15   \n",
       "\n",
       "  Credit_Product  Avg_Account_Balance Is_Active  Is_Lead  \n",
       "0             No               533759        No        0  \n",
       "1            Yes               731811        No        0  \n",
       "2            Yes               475687        No        0  \n",
       "3           None               510210        No        1  \n",
       "4             No               453677       Yes        0  "
      ]
     },
     "execution_count": 21,
     "metadata": {},
     "output_type": "execute_result"
    }
   ],
   "source": [
    "train.head()"
   ]
  },
  {
   "cell_type": "code",
   "execution_count": 22,
   "id": "handmade-terrorism",
   "metadata": {
    "papermill": {
     "duration": 0.176816,
     "end_time": "2021-06-21T10:44:48.754114",
     "exception": false,
     "start_time": "2021-06-21T10:44:48.577298",
     "status": "completed"
    },
    "tags": []
   },
   "outputs": [
    {
     "data": {
      "text/html": [
       "<div>\n",
       "<style scoped>\n",
       "    .dataframe tbody tr th:only-of-type {\n",
       "        vertical-align: middle;\n",
       "    }\n",
       "\n",
       "    .dataframe tbody tr th {\n",
       "        vertical-align: top;\n",
       "    }\n",
       "\n",
       "    .dataframe thead th {\n",
       "        text-align: right;\n",
       "    }\n",
       "</style>\n",
       "<table border=\"1\" class=\"dataframe\">\n",
       "  <thead>\n",
       "    <tr style=\"text-align: right;\">\n",
       "      <th></th>\n",
       "      <th>ID</th>\n",
       "      <th>Gender</th>\n",
       "      <th>Age</th>\n",
       "      <th>Region_Code</th>\n",
       "      <th>Occupation</th>\n",
       "      <th>Channel_Code</th>\n",
       "      <th>Vintage</th>\n",
       "      <th>Credit_Product</th>\n",
       "      <th>Avg_Account_Balance</th>\n",
       "      <th>Is_Active</th>\n",
       "      <th>Is_Lead</th>\n",
       "    </tr>\n",
       "  </thead>\n",
       "  <tbody>\n",
       "    <tr>\n",
       "      <th>3</th>\n",
       "      <td>GXCCJKBS</td>\n",
       "      <td>Female</td>\n",
       "      <td>48</td>\n",
       "      <td>RG257</td>\n",
       "      <td>Self_Employed</td>\n",
       "      <td>X3</td>\n",
       "      <td>97</td>\n",
       "      <td>Not Sure</td>\n",
       "      <td>510210</td>\n",
       "      <td>No</td>\n",
       "      <td>1</td>\n",
       "    </tr>\n",
       "    <tr>\n",
       "      <th>10</th>\n",
       "      <td>6MOVUGLK</td>\n",
       "      <td>Male</td>\n",
       "      <td>56</td>\n",
       "      <td>RG254</td>\n",
       "      <td>Self_Employed</td>\n",
       "      <td>X2</td>\n",
       "      <td>93</td>\n",
       "      <td>Not Sure</td>\n",
       "      <td>1085114</td>\n",
       "      <td>No</td>\n",
       "      <td>1</td>\n",
       "    </tr>\n",
       "    <tr>\n",
       "      <th>11</th>\n",
       "      <td>FKDFDSBE</td>\n",
       "      <td>Male</td>\n",
       "      <td>53</td>\n",
       "      <td>RG284</td>\n",
       "      <td>Other</td>\n",
       "      <td>X2</td>\n",
       "      <td>74</td>\n",
       "      <td>Not Sure</td>\n",
       "      <td>1877766</td>\n",
       "      <td>No</td>\n",
       "      <td>1</td>\n",
       "    </tr>\n",
       "    <tr>\n",
       "      <th>16</th>\n",
       "      <td>MPRDXYWV</td>\n",
       "      <td>Male</td>\n",
       "      <td>67</td>\n",
       "      <td>RG284</td>\n",
       "      <td>Other</td>\n",
       "      <td>X1</td>\n",
       "      <td>44</td>\n",
       "      <td>Not Sure</td>\n",
       "      <td>3122609</td>\n",
       "      <td>No</td>\n",
       "      <td>1</td>\n",
       "    </tr>\n",
       "    <tr>\n",
       "      <th>33</th>\n",
       "      <td>96DNANHR</td>\n",
       "      <td>Male</td>\n",
       "      <td>32</td>\n",
       "      <td>RG268</td>\n",
       "      <td>Salaried</td>\n",
       "      <td>X1</td>\n",
       "      <td>15</td>\n",
       "      <td>Not Sure</td>\n",
       "      <td>662275</td>\n",
       "      <td>No</td>\n",
       "      <td>1</td>\n",
       "    </tr>\n",
       "  </tbody>\n",
       "</table>\n",
       "</div>"
      ],
      "text/plain": [
       "          ID  Gender  Age Region_Code     Occupation Channel_Code  Vintage  \\\n",
       "3   GXCCJKBS  Female   48       RG257  Self_Employed           X3       97   \n",
       "10  6MOVUGLK    Male   56       RG254  Self_Employed           X2       93   \n",
       "11  FKDFDSBE    Male   53       RG284          Other           X2       74   \n",
       "16  MPRDXYWV    Male   67       RG284          Other           X1       44   \n",
       "33  96DNANHR    Male   32       RG268       Salaried           X1       15   \n",
       "\n",
       "   Credit_Product  Avg_Account_Balance Is_Active  Is_Lead  \n",
       "3        Not Sure               510210        No        1  \n",
       "10       Not Sure              1085114        No        1  \n",
       "11       Not Sure              1877766        No        1  \n",
       "16       Not Sure              3122609        No        1  \n",
       "33       Not Sure               662275        No        1  "
      ]
     },
     "execution_count": 22,
     "metadata": {},
     "output_type": "execute_result"
    }
   ],
   "source": [
    "# Replacing null values with 'Not Sure' for both train and test sets. Its al together creating new class\n",
    "\n",
    "train['Credit_Product'] = train['Credit_Product'].fillna(\"Not Sure\")\n",
    "test['Credit_Product'] = test['Credit_Product'].fillna(\"Not Sure\")\n",
    "train[train['Credit_Product'] == 'Not Sure'].head()"
   ]
  },
  {
   "cell_type": "code",
   "execution_count": 23,
   "id": "noble-listening",
   "metadata": {
    "papermill": {
     "duration": 0.090133,
     "end_time": "2021-06-21T10:44:48.927884",
     "exception": false,
     "start_time": "2021-06-21T10:44:48.837751",
     "status": "completed"
    },
    "tags": []
   },
   "outputs": [],
   "source": [
    "# Storing target value in 'Target' attribute for further usage\n",
    "\n",
    "Target = pd.DataFrame(train['Is_Lead'])"
   ]
  },
  {
   "cell_type": "code",
   "execution_count": 24,
   "id": "illegal-white",
   "metadata": {
    "papermill": {
     "duration": 0.119323,
     "end_time": "2021-06-21T10:44:49.127743",
     "exception": false,
     "start_time": "2021-06-21T10:44:49.008420",
     "status": "completed"
    },
    "tags": []
   },
   "outputs": [
    {
     "name": "stdout",
     "output_type": "stream",
     "text": [
      "Shape of train data: (245725, 9)\n",
      "Shape of test data: (105312, 9)\n"
     ]
    }
   ],
   "source": [
    "# Dropping unwanted columns \n",
    "\n",
    "train = train.drop(['Is_Lead', 'ID'], axis = 1)\n",
    "test = test.drop(['ID'], axis = 1)\n",
    "\n",
    "print(\"Shape of train data:\", train.shape)\n",
    "print(\"Shape of test data:\", test.shape)"
   ]
  },
  {
   "cell_type": "code",
   "execution_count": 25,
   "id": "careful-geography",
   "metadata": {
    "papermill": {
     "duration": 0.182133,
     "end_time": "2021-06-21T10:44:49.390289",
     "exception": false,
     "start_time": "2021-06-21T10:44:49.208156",
     "status": "completed"
    },
    "tags": []
   },
   "outputs": [
    {
     "data": {
      "text/plain": [
       "(351037, 9)"
      ]
     },
     "execution_count": 25,
     "metadata": {},
     "output_type": "execute_result"
    }
   ],
   "source": [
    "# Concat both sets to data file\n",
    "\n",
    "data = pd.concat([train, test])\n",
    "data.shape"
   ]
  },
  {
   "cell_type": "code",
   "execution_count": 26,
   "id": "brown-senate",
   "metadata": {
    "papermill": {
     "duration": 0.112646,
     "end_time": "2021-06-21T10:44:49.580497",
     "exception": false,
     "start_time": "2021-06-21T10:44:49.467851",
     "status": "completed"
    },
    "tags": []
   },
   "outputs": [
    {
     "data": {
      "text/html": [
       "<div>\n",
       "<style scoped>\n",
       "    .dataframe tbody tr th:only-of-type {\n",
       "        vertical-align: middle;\n",
       "    }\n",
       "\n",
       "    .dataframe tbody tr th {\n",
       "        vertical-align: top;\n",
       "    }\n",
       "\n",
       "    .dataframe thead th {\n",
       "        text-align: right;\n",
       "    }\n",
       "</style>\n",
       "<table border=\"1\" class=\"dataframe\">\n",
       "  <thead>\n",
       "    <tr style=\"text-align: right;\">\n",
       "      <th></th>\n",
       "      <th>Gender</th>\n",
       "      <th>Age</th>\n",
       "      <th>Region_Code</th>\n",
       "      <th>Occupation</th>\n",
       "      <th>Channel_Code</th>\n",
       "      <th>Vintage</th>\n",
       "      <th>Credit_Product</th>\n",
       "      <th>Avg_Account_Balance</th>\n",
       "      <th>Is_Active</th>\n",
       "    </tr>\n",
       "  </thead>\n",
       "  <tbody>\n",
       "    <tr>\n",
       "      <th>0</th>\n",
       "      <td>Male</td>\n",
       "      <td>30</td>\n",
       "      <td>RG279</td>\n",
       "      <td>Self_Employed</td>\n",
       "      <td>X1</td>\n",
       "      <td>31</td>\n",
       "      <td>No</td>\n",
       "      <td>13.187700</td>\n",
       "      <td>No</td>\n",
       "    </tr>\n",
       "    <tr>\n",
       "      <th>1</th>\n",
       "      <td>Female</td>\n",
       "      <td>26</td>\n",
       "      <td>RG280</td>\n",
       "      <td>Salaried</td>\n",
       "      <td>X1</td>\n",
       "      <td>14</td>\n",
       "      <td>Yes</td>\n",
       "      <td>13.503278</td>\n",
       "      <td>No</td>\n",
       "    </tr>\n",
       "    <tr>\n",
       "      <th>2</th>\n",
       "      <td>Male</td>\n",
       "      <td>26</td>\n",
       "      <td>RG267</td>\n",
       "      <td>Other</td>\n",
       "      <td>X1</td>\n",
       "      <td>26</td>\n",
       "      <td>Yes</td>\n",
       "      <td>13.072515</td>\n",
       "      <td>No</td>\n",
       "    </tr>\n",
       "    <tr>\n",
       "      <th>3</th>\n",
       "      <td>Female</td>\n",
       "      <td>48</td>\n",
       "      <td>RG257</td>\n",
       "      <td>Self_Employed</td>\n",
       "      <td>X3</td>\n",
       "      <td>97</td>\n",
       "      <td>Not Sure</td>\n",
       "      <td>13.142578</td>\n",
       "      <td>No</td>\n",
       "    </tr>\n",
       "    <tr>\n",
       "      <th>4</th>\n",
       "      <td>Female</td>\n",
       "      <td>30</td>\n",
       "      <td>RG279</td>\n",
       "      <td>Other</td>\n",
       "      <td>X1</td>\n",
       "      <td>15</td>\n",
       "      <td>No</td>\n",
       "      <td>13.025141</td>\n",
       "      <td>Yes</td>\n",
       "    </tr>\n",
       "  </tbody>\n",
       "</table>\n",
       "</div>"
      ],
      "text/plain": [
       "   Gender  Age Region_Code     Occupation Channel_Code  Vintage  \\\n",
       "0    Male   30       RG279  Self_Employed           X1       31   \n",
       "1  Female   26       RG280       Salaried           X1       14   \n",
       "2    Male   26       RG267          Other           X1       26   \n",
       "3  Female   48       RG257  Self_Employed           X3       97   \n",
       "4  Female   30       RG279          Other           X1       15   \n",
       "\n",
       "  Credit_Product  Avg_Account_Balance Is_Active  \n",
       "0             No            13.187700        No  \n",
       "1            Yes            13.503278        No  \n",
       "2            Yes            13.072515        No  \n",
       "3       Not Sure            13.142578        No  \n",
       "4             No            13.025141       Yes  "
      ]
     },
     "execution_count": 26,
     "metadata": {},
     "output_type": "execute_result"
    }
   ],
   "source": [
    "# Trying to reduce skewnees by applying some operators \n",
    "\n",
    "data['Avg_Account_Balance'] = np.log(data['Avg_Account_Balance'])\n",
    "\n",
    "data.head()"
   ]
  },
  {
   "cell_type": "code",
   "execution_count": 27,
   "id": "imperial-framework",
   "metadata": {
    "papermill": {
     "duration": 0.09212,
     "end_time": "2021-06-21T10:44:49.755798",
     "exception": false,
     "start_time": "2021-06-21T10:44:49.663678",
     "status": "completed"
    },
    "tags": []
   },
   "outputs": [
    {
     "name": "stdout",
     "output_type": "stream",
     "text": [
      "Numeric columns:  Index(['Age', 'Vintage', 'Avg_Account_Balance'], dtype='object')\n",
      "\n",
      "Categorical columns:  Index(['Channel_Code', 'Credit_Product', 'Gender', 'Is_Active', 'Occupation',\n",
      "       'Region_Code'],\n",
      "      dtype='object')\n"
     ]
    }
   ],
   "source": [
    "## *Getting numeric and categorical columns*\n",
    "\n",
    "data_num_cols = data._get_numeric_data().columns \n",
    "data_cat_cols = data.columns.difference(data_num_cols)\n",
    "print(\"Numeric columns: \", data_num_cols)\n",
    "print()\n",
    "print(\"Categorical columns: \", data_cat_cols)\n",
    "\n",
    "with open('data/data_num_cols.pkl', 'wb') as file:\n",
    "    pickle.dump(data_num_cols, file)\n",
    "\n",
    "with open('data/data_cat_cols.pkl', 'wb') as file:\n",
    "    pickle.dump(data_cat_cols, file)\n",
    "    "
   ]
  },
  {
   "cell_type": "code",
   "execution_count": 28,
   "id": "rotary-protocol",
   "metadata": {
    "papermill": {
     "duration": 0.194349,
     "end_time": "2021-06-21T10:44:50.026051",
     "exception": false,
     "start_time": "2021-06-21T10:44:49.831702",
     "status": "completed"
    },
    "tags": []
   },
   "outputs": [
    {
     "name": "stdout",
     "output_type": "stream",
     "text": [
      "Shape of num data: (351037, 3)\n",
      "Shape of cat data: (351037, 6)\n"
     ]
    }
   ],
   "source": [
    "#Separating both numeric and categorical data from set\n",
    "\n",
    "data_num_data = data.loc[:, data_num_cols]\n",
    "data_cat_data = data.loc[:, data_cat_cols]\n",
    "\n",
    "print(\"Shape of num data:\", data_num_data.shape)\n",
    "print(\"Shape of cat data:\", data_cat_data.shape)"
   ]
  },
  {
   "cell_type": "code",
   "execution_count": 29,
   "id": "caac6fde-da06-420e-a718-4c37ebe38157",
   "metadata": {},
   "outputs": [
    {
     "data": {
      "text/plain": [
       "pandas.core.frame.DataFrame"
      ]
     },
     "execution_count": 29,
     "metadata": {},
     "output_type": "execute_result"
    }
   ],
   "source": [
    "type(data_num_data)"
   ]
  },
  {
   "cell_type": "code",
   "execution_count": 30,
   "id": "a2fd4471-a140-40dc-ad33-2f11f7e6fcb4",
   "metadata": {
    "papermill": {
     "duration": 5.784623,
     "end_time": "2021-06-21T10:44:55.886274",
     "exception": false,
     "start_time": "2021-06-21T10:44:50.101651",
     "status": "completed"
    },
    "tags": []
   },
   "outputs": [],
   "source": [
    "### Using StandardScaler to scale the data\n",
    "\n",
    "from sklearn import preprocessing\n",
    "s_scaler = preprocessing.StandardScaler()\n",
    "data_num_data_s = s_scaler.fit_transform(data_num_data)\n",
    "\n",
    "data_num_data_s = pd.DataFrame(data_num_data_s, columns = data_num_cols)\n",
    "\n",
    "####\n",
    "\n",
    "# Save the scaler\n",
    "with open('data/standardscaler.pkl', 'wb') as file:\n",
    "    pickle.dump(s_scaler, file)\n",
    "    \n",
    "#####\n"
   ]
  },
  {
   "cell_type": "code",
   "execution_count": 31,
   "id": "f9608a83-81bc-42e2-86bb-bcfcffead5bb",
   "metadata": {},
   "outputs": [
    {
     "data": {
      "image/png": "[encoded data removed]",
      "text/plain": [
       "<Figure size 576x360 with 1 Axes>"
      ]
     },
     "metadata": {
      "needs_background": "light"
     },
     "output_type": "display_data"
    }
   ],
   "source": [
    "fig, (ax1) = plt.subplots(ncols=1, figsize=(8, 5))\n",
    "ax1.set_title('After StandardScaler')\n",
    "\n",
    "sns.kdeplot(data_num_data_s['Age'], ax=ax1)\n",
    "sns.kdeplot(data_num_data_s['Vintage'], ax=ax1)\n",
    "sns.kdeplot(data_num_data_s['Avg_Account_Balance'], ax=ax1);"
   ]
  },
  {
   "cell_type": "markdown",
   "id": "terminal-floor",
   "metadata": {
    "papermill": {
     "duration": 0.076275,
     "end_time": "2021-06-21T10:44:56.040289",
     "exception": false,
     "start_time": "2021-06-21T10:44:55.964014",
     "status": "completed"
    },
    "tags": []
   },
   "source": [
    "***Handle Categorical Variable using One hot Encoder***"
   ]
  },
  {
   "cell_type": "code",
   "execution_count": 32,
   "id": "a06adaa9-9c78-4cb7-9ed0-eb55fbc7b9bb",
   "metadata": {},
   "outputs": [
    {
     "data": {
      "text/html": [
       "<div>\n",
       "<style scoped>\n",
       "    .dataframe tbody tr th:only-of-type {\n",
       "        vertical-align: middle;\n",
       "    }\n",
       "\n",
       "    .dataframe tbody tr th {\n",
       "        vertical-align: top;\n",
       "    }\n",
       "\n",
       "    .dataframe thead th {\n",
       "        text-align: right;\n",
       "    }\n",
       "</style>\n",
       "<table border=\"1\" class=\"dataframe\">\n",
       "  <thead>\n",
       "    <tr style=\"text-align: right;\">\n",
       "      <th></th>\n",
       "      <th>Channel_Code</th>\n",
       "      <th>Credit_Product</th>\n",
       "      <th>Gender</th>\n",
       "      <th>Is_Active</th>\n",
       "      <th>Occupation</th>\n",
       "      <th>Region_Code</th>\n",
       "    </tr>\n",
       "  </thead>\n",
       "  <tbody>\n",
       "    <tr>\n",
       "      <th>0</th>\n",
       "      <td>X1</td>\n",
       "      <td>No</td>\n",
       "      <td>Male</td>\n",
       "      <td>No</td>\n",
       "      <td>Self_Employed</td>\n",
       "      <td>RG279</td>\n",
       "    </tr>\n",
       "    <tr>\n",
       "      <th>1</th>\n",
       "      <td>X1</td>\n",
       "      <td>Yes</td>\n",
       "      <td>Female</td>\n",
       "      <td>No</td>\n",
       "      <td>Salaried</td>\n",
       "      <td>RG280</td>\n",
       "    </tr>\n",
       "    <tr>\n",
       "      <th>2</th>\n",
       "      <td>X1</td>\n",
       "      <td>Yes</td>\n",
       "      <td>Male</td>\n",
       "      <td>No</td>\n",
       "      <td>Other</td>\n",
       "      <td>RG267</td>\n",
       "    </tr>\n",
       "    <tr>\n",
       "      <th>3</th>\n",
       "      <td>X3</td>\n",
       "      <td>Not Sure</td>\n",
       "      <td>Female</td>\n",
       "      <td>No</td>\n",
       "      <td>Self_Employed</td>\n",
       "      <td>RG257</td>\n",
       "    </tr>\n",
       "    <tr>\n",
       "      <th>4</th>\n",
       "      <td>X1</td>\n",
       "      <td>No</td>\n",
       "      <td>Female</td>\n",
       "      <td>Yes</td>\n",
       "      <td>Other</td>\n",
       "      <td>RG279</td>\n",
       "    </tr>\n",
       "  </tbody>\n",
       "</table>\n",
       "</div>"
      ],
      "text/plain": [
       "  Channel_Code Credit_Product  Gender Is_Active     Occupation Region_Code\n",
       "0           X1             No    Male        No  Self_Employed       RG279\n",
       "1           X1            Yes  Female        No       Salaried       RG280\n",
       "2           X1            Yes    Male        No          Other       RG267\n",
       "3           X3       Not Sure  Female        No  Self_Employed       RG257\n",
       "4           X1             No  Female       Yes          Other       RG279"
      ]
     },
     "execution_count": 32,
     "metadata": {},
     "output_type": "execute_result"
    }
   ],
   "source": [
    "data_cat_data.head()"
   ]
  },
  {
   "cell_type": "markdown",
   "id": "5332455f-20b1-46cf-8558-9946d70e098b",
   "metadata": {},
   "source": [
    "### One hot encoding"
   ]
  },
  {
   "cell_type": "code",
   "execution_count": 33,
   "id": "a7ed7122-1410-455a-bc81-1538e3108314",
   "metadata": {},
   "outputs": [],
   "source": [
    "enc = OneHotEncoder(handle_unknown='ignore',sparse_output=False).set_output(transform='pandas')\n",
    "\n",
    "ohefit = enc.fit(data_cat_data)\n",
    "\n",
    "#joblib.dump(ohefit, './data/ohefit.save')\n",
    "\n",
    "# Save the scaler\n",
    "with open('data/onehotenc.pkl', 'wb') as file:\n",
    "    pickle.dump(ohefit, file)\n"
   ]
  },
  {
   "cell_type": "code",
   "execution_count": 34,
   "id": "worse-municipality",
   "metadata": {
    "papermill": {
     "duration": 0.868264,
     "end_time": "2021-06-21T10:44:56.986300",
     "exception": false,
     "start_time": "2021-06-21T10:44:56.118036",
     "status": "completed"
    },
    "tags": []
   },
   "outputs": [],
   "source": [
    "data_cat_data_s = enc.fit_transform(data_cat_data)"
   ]
  },
  {
   "cell_type": "code",
   "execution_count": 35,
   "id": "458461b0-9f2f-40c7-b0b6-c34da4ebd5df",
   "metadata": {},
   "outputs": [],
   "source": [
    "#data_cat_data_s = pd.concat([df,ohetransform],axis = 1).drop(columns= ['link', 'location'])\n",
    "\n",
    "\n",
    "#data_cat_data = data_cat_data.apply(LabelEncoder().fit_transform)\n",
    "#data_cat_data_s = data_cat_data.apply(labelencoder.fit_transform)\n",
    "\n",
    "\n",
    "\n",
    "# # Save the encoder\n",
    "# with open('data/labelencoder.pkl', 'wb') as file:\n",
    "#     pickle.dump(labelencoder, file)\n"
   ]
  },
  {
   "cell_type": "code",
   "execution_count": 36,
   "id": "eb019ae3-633e-424f-a29d-3b20e76dbe6c",
   "metadata": {},
   "outputs": [
    {
     "data": {
      "text/html": [
       "<div>\n",
       "<style scoped>\n",
       "    .dataframe tbody tr th:only-of-type {\n",
       "        vertical-align: middle;\n",
       "    }\n",
       "\n",
       "    .dataframe tbody tr th {\n",
       "        vertical-align: top;\n",
       "    }\n",
       "\n",
       "    .dataframe thead th {\n",
       "        text-align: right;\n",
       "    }\n",
       "</style>\n",
       "<table border=\"1\" class=\"dataframe\">\n",
       "  <thead>\n",
       "    <tr style=\"text-align: right;\">\n",
       "      <th></th>\n",
       "      <th>Channel_Code_X1</th>\n",
       "      <th>Channel_Code_X2</th>\n",
       "      <th>Channel_Code_X3</th>\n",
       "      <th>Channel_Code_X4</th>\n",
       "      <th>Credit_Product_No</th>\n",
       "      <th>Credit_Product_Not Sure</th>\n",
       "      <th>Credit_Product_Yes</th>\n",
       "      <th>Gender_Female</th>\n",
       "      <th>Gender_Male</th>\n",
       "      <th>Is_Active_No</th>\n",
       "      <th>...</th>\n",
       "      <th>Region_Code_RG275</th>\n",
       "      <th>Region_Code_RG276</th>\n",
       "      <th>Region_Code_RG277</th>\n",
       "      <th>Region_Code_RG278</th>\n",
       "      <th>Region_Code_RG279</th>\n",
       "      <th>Region_Code_RG280</th>\n",
       "      <th>Region_Code_RG281</th>\n",
       "      <th>Region_Code_RG282</th>\n",
       "      <th>Region_Code_RG283</th>\n",
       "      <th>Region_Code_RG284</th>\n",
       "    </tr>\n",
       "  </thead>\n",
       "  <tbody>\n",
       "    <tr>\n",
       "      <th>0</th>\n",
       "      <td>1.0</td>\n",
       "      <td>0.0</td>\n",
       "      <td>0.0</td>\n",
       "      <td>0.0</td>\n",
       "      <td>1.0</td>\n",
       "      <td>0.0</td>\n",
       "      <td>0.0</td>\n",
       "      <td>0.0</td>\n",
       "      <td>1.0</td>\n",
       "      <td>1.0</td>\n",
       "      <td>...</td>\n",
       "      <td>0.0</td>\n",
       "      <td>0.0</td>\n",
       "      <td>0.0</td>\n",
       "      <td>0.0</td>\n",
       "      <td>1.0</td>\n",
       "      <td>0.0</td>\n",
       "      <td>0.0</td>\n",
       "      <td>0.0</td>\n",
       "      <td>0.0</td>\n",
       "      <td>0.0</td>\n",
       "    </tr>\n",
       "    <tr>\n",
       "      <th>1</th>\n",
       "      <td>1.0</td>\n",
       "      <td>0.0</td>\n",
       "      <td>0.0</td>\n",
       "      <td>0.0</td>\n",
       "      <td>0.0</td>\n",
       "      <td>0.0</td>\n",
       "      <td>1.0</td>\n",
       "      <td>1.0</td>\n",
       "      <td>0.0</td>\n",
       "      <td>1.0</td>\n",
       "      <td>...</td>\n",
       "      <td>0.0</td>\n",
       "      <td>0.0</td>\n",
       "      <td>0.0</td>\n",
       "      <td>0.0</td>\n",
       "      <td>0.0</td>\n",
       "      <td>1.0</td>\n",
       "      <td>0.0</td>\n",
       "      <td>0.0</td>\n",
       "      <td>0.0</td>\n",
       "      <td>0.0</td>\n",
       "    </tr>\n",
       "    <tr>\n",
       "      <th>2</th>\n",
       "      <td>1.0</td>\n",
       "      <td>0.0</td>\n",
       "      <td>0.0</td>\n",
       "      <td>0.0</td>\n",
       "      <td>0.0</td>\n",
       "      <td>0.0</td>\n",
       "      <td>1.0</td>\n",
       "      <td>0.0</td>\n",
       "      <td>1.0</td>\n",
       "      <td>1.0</td>\n",
       "      <td>...</td>\n",
       "      <td>0.0</td>\n",
       "      <td>0.0</td>\n",
       "      <td>0.0</td>\n",
       "      <td>0.0</td>\n",
       "      <td>0.0</td>\n",
       "      <td>0.0</td>\n",
       "      <td>0.0</td>\n",
       "      <td>0.0</td>\n",
       "      <td>0.0</td>\n",
       "      <td>0.0</td>\n",
       "    </tr>\n",
       "    <tr>\n",
       "      <th>3</th>\n",
       "      <td>0.0</td>\n",
       "      <td>0.0</td>\n",
       "      <td>1.0</td>\n",
       "      <td>0.0</td>\n",
       "      <td>0.0</td>\n",
       "      <td>1.0</td>\n",
       "      <td>0.0</td>\n",
       "      <td>1.0</td>\n",
       "      <td>0.0</td>\n",
       "      <td>1.0</td>\n",
       "      <td>...</td>\n",
       "      <td>0.0</td>\n",
       "      <td>0.0</td>\n",
       "      <td>0.0</td>\n",
       "      <td>0.0</td>\n",
       "      <td>0.0</td>\n",
       "      <td>0.0</td>\n",
       "      <td>0.0</td>\n",
       "      <td>0.0</td>\n",
       "      <td>0.0</td>\n",
       "      <td>0.0</td>\n",
       "    </tr>\n",
       "    <tr>\n",
       "      <th>4</th>\n",
       "      <td>1.0</td>\n",
       "      <td>0.0</td>\n",
       "      <td>0.0</td>\n",
       "      <td>0.0</td>\n",
       "      <td>1.0</td>\n",
       "      <td>0.0</td>\n",
       "      <td>0.0</td>\n",
       "      <td>1.0</td>\n",
       "      <td>0.0</td>\n",
       "      <td>0.0</td>\n",
       "      <td>...</td>\n",
       "      <td>0.0</td>\n",
       "      <td>0.0</td>\n",
       "      <td>0.0</td>\n",
       "      <td>0.0</td>\n",
       "      <td>1.0</td>\n",
       "      <td>0.0</td>\n",
       "      <td>0.0</td>\n",
       "      <td>0.0</td>\n",
       "      <td>0.0</td>\n",
       "      <td>0.0</td>\n",
       "    </tr>\n",
       "  </tbody>\n",
       "</table>\n",
       "<p>5 rows × 50 columns</p>\n",
       "</div>"
      ],
      "text/plain": [
       "   Channel_Code_X1  Channel_Code_X2  Channel_Code_X3  Channel_Code_X4  \\\n",
       "0              1.0              0.0              0.0              0.0   \n",
       "1              1.0              0.0              0.0              0.0   \n",
       "2              1.0              0.0              0.0              0.0   \n",
       "3              0.0              0.0              1.0              0.0   \n",
       "4              1.0              0.0              0.0              0.0   \n",
       "\n",
       "   Credit_Product_No  Credit_Product_Not Sure  Credit_Product_Yes  \\\n",
       "0                1.0                      0.0                 0.0   \n",
       "1                0.0                      0.0                 1.0   \n",
       "2                0.0                      0.0                 1.0   \n",
       "3                0.0                      1.0                 0.0   \n",
       "4                1.0                      0.0                 0.0   \n",
       "\n",
       "   Gender_Female  Gender_Male  Is_Active_No  ...  Region_Code_RG275  \\\n",
       "0            0.0          1.0           1.0  ...                0.0   \n",
       "1            1.0          0.0           1.0  ...                0.0   \n",
       "2            0.0          1.0           1.0  ...                0.0   \n",
       "3            1.0          0.0           1.0  ...                0.0   \n",
       "4            1.0          0.0           0.0  ...                0.0   \n",
       "\n",
       "   Region_Code_RG276  Region_Code_RG277  Region_Code_RG278  Region_Code_RG279  \\\n",
       "0                0.0                0.0                0.0                1.0   \n",
       "1                0.0                0.0                0.0                0.0   \n",
       "2                0.0                0.0                0.0                0.0   \n",
       "3                0.0                0.0                0.0                0.0   \n",
       "4                0.0                0.0                0.0                1.0   \n",
       "\n",
       "   Region_Code_RG280  Region_Code_RG281  Region_Code_RG282  Region_Code_RG283  \\\n",
       "0                0.0                0.0                0.0                0.0   \n",
       "1                1.0                0.0                0.0                0.0   \n",
       "2                0.0                0.0                0.0                0.0   \n",
       "3                0.0                0.0                0.0                0.0   \n",
       "4                0.0                0.0                0.0                0.0   \n",
       "\n",
       "   Region_Code_RG284  \n",
       "0                0.0  \n",
       "1                0.0  \n",
       "2                0.0  \n",
       "3                0.0  \n",
       "4                0.0  \n",
       "\n",
       "[5 rows x 50 columns]"
      ]
     },
     "execution_count": 36,
     "metadata": {},
     "output_type": "execute_result"
    }
   ],
   "source": [
    "data_cat_data_s.head()"
   ]
  },
  {
   "cell_type": "code",
   "execution_count": 37,
   "id": "registered-permission",
   "metadata": {
    "papermill": {
     "duration": 0.092785,
     "end_time": "2021-06-21T10:44:57.155712",
     "exception": false,
     "start_time": "2021-06-21T10:44:57.062927",
     "status": "completed"
    },
    "tags": []
   },
   "outputs": [],
   "source": [
    "# Storing cleaned data into 'data_new'\n",
    "\n",
    "data_num_data_s.reset_index(drop=True, inplace=True)\n",
    "data_cat_data_s.reset_index(drop=True, inplace=True)\n",
    "#df = pd.concat([df1, df2], axis=1)\n",
    "data_new = pd.concat([data_num_data_s, data_cat_data_s], axis = 1)"
   ]
  },
  {
   "cell_type": "code",
   "execution_count": 38,
   "id": "offshore-beach",
   "metadata": {
    "papermill": {
     "duration": 0.091097,
     "end_time": "2021-06-21T10:44:57.323364",
     "exception": false,
     "start_time": "2021-06-21T10:44:57.232267",
     "status": "completed"
    },
    "tags": []
   },
   "outputs": [
    {
     "data": {
      "text/html": [
       "<div>\n",
       "<style scoped>\n",
       "    .dataframe tbody tr th:only-of-type {\n",
       "        vertical-align: middle;\n",
       "    }\n",
       "\n",
       "    .dataframe tbody tr th {\n",
       "        vertical-align: top;\n",
       "    }\n",
       "\n",
       "    .dataframe thead th {\n",
       "        text-align: right;\n",
       "    }\n",
       "</style>\n",
       "<table border=\"1\" class=\"dataframe\">\n",
       "  <thead>\n",
       "    <tr style=\"text-align: right;\">\n",
       "      <th></th>\n",
       "      <th>Is_Lead</th>\n",
       "    </tr>\n",
       "  </thead>\n",
       "  <tbody>\n",
       "    <tr>\n",
       "      <th>0</th>\n",
       "      <td>0</td>\n",
       "    </tr>\n",
       "    <tr>\n",
       "      <th>1</th>\n",
       "      <td>0</td>\n",
       "    </tr>\n",
       "    <tr>\n",
       "      <th>2</th>\n",
       "      <td>0</td>\n",
       "    </tr>\n",
       "    <tr>\n",
       "      <th>3</th>\n",
       "      <td>1</td>\n",
       "    </tr>\n",
       "    <tr>\n",
       "      <th>4</th>\n",
       "      <td>0</td>\n",
       "    </tr>\n",
       "    <tr>\n",
       "      <th>...</th>\n",
       "      <td>...</td>\n",
       "    </tr>\n",
       "    <tr>\n",
       "      <th>245720</th>\n",
       "      <td>0</td>\n",
       "    </tr>\n",
       "    <tr>\n",
       "      <th>245721</th>\n",
       "      <td>0</td>\n",
       "    </tr>\n",
       "    <tr>\n",
       "      <th>245722</th>\n",
       "      <td>1</td>\n",
       "    </tr>\n",
       "    <tr>\n",
       "      <th>245723</th>\n",
       "      <td>0</td>\n",
       "    </tr>\n",
       "    <tr>\n",
       "      <th>245724</th>\n",
       "      <td>0</td>\n",
       "    </tr>\n",
       "  </tbody>\n",
       "</table>\n",
       "<p>245725 rows × 1 columns</p>\n",
       "</div>"
      ],
      "text/plain": [
       "        Is_Lead\n",
       "0             0\n",
       "1             0\n",
       "2             0\n",
       "3             1\n",
       "4             0\n",
       "...         ...\n",
       "245720        0\n",
       "245721        0\n",
       "245722        1\n",
       "245723        0\n",
       "245724        0\n",
       "\n",
       "[245725 rows x 1 columns]"
      ]
     },
     "execution_count": 38,
     "metadata": {},
     "output_type": "execute_result"
    }
   ],
   "source": [
    "Target"
   ]
  },
  {
   "cell_type": "code",
   "execution_count": 39,
   "id": "earned-climb",
   "metadata": {
    "papermill": {
     "duration": 0.089022,
     "end_time": "2021-06-21T10:44:57.490684",
     "exception": false,
     "start_time": "2021-06-21T10:44:57.401662",
     "status": "completed"
    },
    "tags": []
   },
   "outputs": [
    {
     "name": "stdout",
     "output_type": "stream",
     "text": [
      "Shape of train data: (245725, 53)\n",
      "Shape of test data: (105311, 53)\n"
     ]
    }
   ],
   "source": [
    "# Splitting back the data into train and test\n",
    "\n",
    "train_new = data_new.iloc[:245725,]\n",
    "test_new = data_new.iloc[245726:,]\n",
    "\n",
    "print(\"Shape of train data:\", train_new.shape)\n",
    "print(\"Shape of test data:\", test_new.shape)"
   ]
  },
  {
   "cell_type": "code",
   "execution_count": 40,
   "id": "dominant-administrator",
   "metadata": {
    "papermill": {
     "duration": 0.095533,
     "end_time": "2021-06-21T10:44:57.665493",
     "exception": false,
     "start_time": "2021-06-21T10:44:57.569960",
     "status": "completed"
    },
    "tags": []
   },
   "outputs": [],
   "source": [
    "#train_new.isnull().sum()"
   ]
  },
  {
   "cell_type": "code",
   "execution_count": 41,
   "id": "martial-singing",
   "metadata": {
    "papermill": {
     "duration": 0.093268,
     "end_time": "2021-06-21T10:44:57.840336",
     "exception": false,
     "start_time": "2021-06-21T10:44:57.747068",
     "status": "completed"
    },
    "tags": []
   },
   "outputs": [
    {
     "data": {
      "text/plain": [
       "Age                         float64\n",
       "Vintage                     float64\n",
       "Avg_Account_Balance         float64\n",
       "Channel_Code_X1             float64\n",
       "Channel_Code_X2             float64\n",
       "Channel_Code_X3             float64\n",
       "Channel_Code_X4             float64\n",
       "Credit_Product_No           float64\n",
       "Credit_Product_Not Sure     float64\n",
       "Credit_Product_Yes          float64\n",
       "Gender_Female               float64\n",
       "Gender_Male                 float64\n",
       "Is_Active_No                float64\n",
       "Is_Active_Yes               float64\n",
       "Occupation_Entrepreneur     float64\n",
       "Occupation_Other            float64\n",
       "Occupation_Salaried         float64\n",
       "Occupation_Self_Employed    float64\n",
       "Region_Code_RG250           float64\n",
       "Region_Code_RG251           float64\n",
       "Region_Code_RG252           float64\n",
       "Region_Code_RG253           float64\n",
       "Region_Code_RG254           float64\n",
       "Region_Code_RG255           float64\n",
       "Region_Code_RG256           float64\n",
       "Region_Code_RG257           float64\n",
       "Region_Code_RG258           float64\n",
       "Region_Code_RG259           float64\n",
       "Region_Code_RG260           float64\n",
       "Region_Code_RG261           float64\n",
       "Region_Code_RG262           float64\n",
       "Region_Code_RG263           float64\n",
       "Region_Code_RG264           float64\n",
       "Region_Code_RG265           float64\n",
       "Region_Code_RG266           float64\n",
       "Region_Code_RG267           float64\n",
       "Region_Code_RG268           float64\n",
       "Region_Code_RG269           float64\n",
       "Region_Code_RG270           float64\n",
       "Region_Code_RG271           float64\n",
       "Region_Code_RG272           float64\n",
       "Region_Code_RG273           float64\n",
       "Region_Code_RG274           float64\n",
       "Region_Code_RG275           float64\n",
       "Region_Code_RG276           float64\n",
       "Region_Code_RG277           float64\n",
       "Region_Code_RG278           float64\n",
       "Region_Code_RG279           float64\n",
       "Region_Code_RG280           float64\n",
       "Region_Code_RG281           float64\n",
       "Region_Code_RG282           float64\n",
       "Region_Code_RG283           float64\n",
       "Region_Code_RG284           float64\n",
       "dtype: object"
      ]
     },
     "execution_count": 41,
     "metadata": {},
     "output_type": "execute_result"
    }
   ],
   "source": [
    "train_new.dtypes"
   ]
  },
  {
   "cell_type": "code",
   "execution_count": 42,
   "id": "9c0b487a-7ec0-478e-b5e5-39bc8c7b1b8c",
   "metadata": {},
   "outputs": [
    {
     "data": {
      "text/plain": [
       "<bound method NDFrame.head of              Age   Vintage  Avg_Account_Balance  Channel_Code_X1  \\\n",
       "0      -0.933890 -0.492564            -0.880871              1.0   \n",
       "1      -1.203397 -1.018404            -0.372265              1.0   \n",
       "2      -1.203397 -0.647223            -1.066509              1.0   \n",
       "3       0.278892  1.548930            -0.953592              0.0   \n",
       "4      -0.933890 -0.987472            -1.142861              1.0   \n",
       "...          ...       ...                  ...              ...   \n",
       "245720  1.693804  1.177749             1.126223              0.0   \n",
       "245721 -0.664383 -0.678155            -1.078951              0.0   \n",
       "245722  0.548399  1.394271            -0.203981              0.0   \n",
       "245723 -1.068644 -0.492564             0.166478              1.0   \n",
       "245724  0.952659  1.920111             0.048589              0.0   \n",
       "\n",
       "        Channel_Code_X2  Channel_Code_X3  Channel_Code_X4  Credit_Product_No  \\\n",
       "0                   0.0              0.0              0.0                1.0   \n",
       "1                   0.0              0.0              0.0                0.0   \n",
       "2                   0.0              0.0              0.0                0.0   \n",
       "3                   0.0              1.0              0.0                0.0   \n",
       "4                   0.0              0.0              0.0                1.0   \n",
       "...                 ...              ...              ...                ...   \n",
       "245720              1.0              0.0              0.0                1.0   \n",
       "245721              1.0              0.0              0.0                1.0   \n",
       "245722              1.0              0.0              0.0                0.0   \n",
       "245723              0.0              0.0              0.0                1.0   \n",
       "245724              0.0              1.0              0.0                1.0   \n",
       "\n",
       "        Credit_Product_Not Sure  Credit_Product_Yes  ...  Region_Code_RG275  \\\n",
       "0                           0.0                 0.0  ...                0.0   \n",
       "1                           0.0                 1.0  ...                0.0   \n",
       "2                           0.0                 1.0  ...                0.0   \n",
       "3                           1.0                 0.0  ...                0.0   \n",
       "4                           0.0                 0.0  ...                0.0   \n",
       "...                         ...                 ...  ...                ...   \n",
       "245720                      0.0                 0.0  ...                0.0   \n",
       "245721                      0.0                 0.0  ...                0.0   \n",
       "245722                      1.0                 0.0  ...                0.0   \n",
       "245723                      0.0                 0.0  ...                0.0   \n",
       "245724                      0.0                 0.0  ...                0.0   \n",
       "\n",
       "        Region_Code_RG276  Region_Code_RG277  Region_Code_RG278  \\\n",
       "0                     0.0                0.0                0.0   \n",
       "1                     0.0                0.0                0.0   \n",
       "2                     0.0                0.0                0.0   \n",
       "3                     0.0                0.0                0.0   \n",
       "4                     0.0                0.0                0.0   \n",
       "...                   ...                ...                ...   \n",
       "245720                0.0                0.0                0.0   \n",
       "245721                0.0                0.0                0.0   \n",
       "245722                0.0                0.0                0.0   \n",
       "245723                0.0                0.0                0.0   \n",
       "245724                0.0                0.0                0.0   \n",
       "\n",
       "        Region_Code_RG279  Region_Code_RG280  Region_Code_RG281  \\\n",
       "0                     1.0                0.0                0.0   \n",
       "1                     0.0                1.0                0.0   \n",
       "2                     0.0                0.0                0.0   \n",
       "3                     0.0                0.0                0.0   \n",
       "4                     1.0                0.0                0.0   \n",
       "...                   ...                ...                ...   \n",
       "245720                0.0                0.0                0.0   \n",
       "245721                0.0                0.0                0.0   \n",
       "245722                0.0                0.0                0.0   \n",
       "245723                0.0                0.0                0.0   \n",
       "245724                0.0                0.0                0.0   \n",
       "\n",
       "        Region_Code_RG282  Region_Code_RG283  Region_Code_RG284  \n",
       "0                     0.0                0.0                0.0  \n",
       "1                     0.0                0.0                0.0  \n",
       "2                     0.0                0.0                0.0  \n",
       "3                     0.0                0.0                0.0  \n",
       "4                     0.0                0.0                0.0  \n",
       "...                   ...                ...                ...  \n",
       "245720                0.0                1.0                0.0  \n",
       "245721                0.0                0.0                0.0  \n",
       "245722                0.0                0.0                0.0  \n",
       "245723                0.0                1.0                0.0  \n",
       "245724                0.0                1.0                0.0  \n",
       "\n",
       "[245725 rows x 53 columns]>"
      ]
     },
     "execution_count": 42,
     "metadata": {},
     "output_type": "execute_result"
    }
   ],
   "source": [
    "train_new.head"
   ]
  },
  {
   "cell_type": "code",
   "execution_count": 43,
   "id": "vital-federation",
   "metadata": {
    "papermill": {
     "duration": 0.216415,
     "end_time": "2021-06-21T10:44:58.136151",
     "exception": false,
     "start_time": "2021-06-21T10:44:57.919736",
     "status": "completed"
    },
    "tags": []
   },
   "outputs": [],
   "source": [
    "# Split the dataset into training and testing set\n",
    "\n",
    "from sklearn.model_selection import train_test_split\n",
    "X_train, X_test, y_train, y_test = train_test_split(train_new,Target,test_size=0.2,random_state=42)"
   ]
  },
  {
   "cell_type": "code",
   "execution_count": 44,
   "id": "angry-saturday",
   "metadata": {
    "papermill": {
     "duration": 0.089581,
     "end_time": "2021-06-21T10:44:58.304268",
     "exception": false,
     "start_time": "2021-06-21T10:44:58.214687",
     "status": "completed"
    },
    "tags": []
   },
   "outputs": [
    {
     "data": {
      "text/plain": [
       "((196580, 53), (49145, 53), (196580, 1), (49145, 1))"
      ]
     },
     "execution_count": 44,
     "metadata": {},
     "output_type": "execute_result"
    }
   ],
   "source": [
    "X_train.shape, X_test.shape, y_train.shape, y_test.shape"
   ]
  },
  {
   "cell_type": "code",
   "execution_count": 45,
   "id": "39c41cd2-b5a8-4437-a2d7-ee6d26a5c519",
   "metadata": {},
   "outputs": [
    {
     "name": "stdout",
     "output_type": "stream",
     "text": [
      "{\"Age\":-1.2707741093,\"Vintage\":-1.049335718,\"Avg_Account_Balance\":-0.9539870591,\"Channel_Code_X1\":1.0,\"Channel_Code_X2\":0.0,\"Channel_Code_X3\":0.0,\"Channel_Code_X4\":0.0,\"Credit_Product_No\":1.0,\"Credit_Product_Not Sure\":0.0,\"Credit_Product_Yes\":0.0,\"Gender_Female\":0.0,\"Gender_Male\":1.0,\"Is_Active_No\":0.0,\"Is_Active_Yes\":1.0,\"Occupation_Entrepreneur\":0.0,\"Occupation_Other\":0.0,\"Occupation_Salaried\":1.0,\"Occupation_Self_Employed\":0.0,\"Region_Code_RG250\":0.0,\"Region_Code_RG251\":0.0,\"Region_Code_RG252\":0.0,\"Region_Code_RG253\":0.0,\"Region_Code_RG254\":0.0,\"Region_Code_RG255\":0.0,\"Region_Code_RG256\":0.0,\"Region_Code_RG257\":0.0,\"Region_Code_RG258\":0.0,\"Region_Code_RG259\":0.0,\"Region_Code_RG260\":0.0,\"Region_Code_RG261\":0.0,\"Region_Code_RG262\":0.0,\"Region_Code_RG263\":0.0,\"Region_Code_RG264\":1.0,\"Region_Code_RG265\":0.0,\"Region_Code_RG266\":0.0,\"Region_Code_RG267\":0.0,\"Region_Code_RG268\":0.0,\"Region_Code_RG269\":0.0,\"Region_Code_RG270\":0.0,\"Region_Code_RG271\":0.0,\"Region_Code_RG272\":0.0,\"Region_Code_RG273\":0.0,\"Region_Code_RG274\":0.0,\"Region_Code_RG275\":0.0,\"Region_Code_RG276\":0.0,\"Region_Code_RG277\":0.0,\"Region_Code_RG278\":0.0,\"Region_Code_RG279\":0.0,\"Region_Code_RG280\":0.0,\"Region_Code_RG281\":0.0,\"Region_Code_RG282\":0.0,\"Region_Code_RG283\":0.0,\"Region_Code_RG284\":0.0}\n",
      "{\"Age\":-1.1360205675,\"Vintage\":-0.6162914368,\"Avg_Account_Balance\":-0.1428265406,\"Channel_Code_X1\":1.0,\"Channel_Code_X2\":0.0,\"Channel_Code_X3\":0.0,\"Channel_Code_X4\":0.0,\"Credit_Product_No\":1.0,\"Credit_Product_Not Sure\":0.0,\"Credit_Product_Yes\":0.0,\"Gender_Female\":0.0,\"Gender_Male\":1.0,\"Is_Active_No\":1.0,\"Is_Active_Yes\":0.0,\"Occupation_Entrepreneur\":0.0,\"Occupation_Other\":0.0,\"Occupation_Salaried\":1.0,\"Occupation_Self_Employed\":0.0,\"Region_Code_RG250\":0.0,\"Region_Code_RG251\":1.0,\"Region_Code_RG252\":0.0,\"Region_Code_RG253\":0.0,\"Region_Code_RG254\":0.0,\"Region_Code_RG255\":0.0,\"Region_Code_RG256\":0.0,\"Region_Code_RG257\":0.0,\"Region_Code_RG258\":0.0,\"Region_Code_RG259\":0.0,\"Region_Code_RG260\":0.0,\"Region_Code_RG261\":0.0,\"Region_Code_RG262\":0.0,\"Region_Code_RG263\":0.0,\"Region_Code_RG264\":0.0,\"Region_Code_RG265\":0.0,\"Region_Code_RG266\":0.0,\"Region_Code_RG267\":0.0,\"Region_Code_RG268\":0.0,\"Region_Code_RG269\":0.0,\"Region_Code_RG270\":0.0,\"Region_Code_RG271\":0.0,\"Region_Code_RG272\":0.0,\"Region_Code_RG273\":0.0,\"Region_Code_RG274\":0.0,\"Region_Code_RG275\":0.0,\"Region_Code_RG276\":0.0,\"Region_Code_RG277\":0.0,\"Region_Code_RG278\":0.0,\"Region_Code_RG279\":0.0,\"Region_Code_RG280\":0.0,\"Region_Code_RG281\":0.0,\"Region_Code_RG282\":0.0,\"Region_Code_RG283\":0.0,\"Region_Code_RG284\":0.0}\n",
      "{\"Is_Lead\":0}\n",
      "{\"Is_Lead\":0}\n"
     ]
    }
   ],
   "source": [
    "row_dict = X_train.iloc[1].to_dict()\n",
    "json_row = pd.Series(row_dict).to_json()\n",
    "\n",
    "print(json_row)\n",
    "\n",
    "row_dict = X_test.iloc[1].to_dict()\n",
    "json_row = pd.Series(row_dict).to_json()\n",
    "\n",
    "print(json_row)\n",
    "\n",
    "\n",
    "row_dict = y_train.iloc[1].to_dict()\n",
    "json_row = pd.Series(row_dict).to_json()\n",
    "\n",
    "print(json_row)\n",
    "\n",
    "\n",
    "row_dict = y_test.iloc[1].to_dict()\n",
    "json_row = pd.Series(row_dict).to_json()\n",
    "\n",
    "print(json_row)"
   ]
  },
  {
   "cell_type": "markdown",
   "id": "settled-stretch",
   "metadata": {
    "papermill": {
     "duration": 0.078656,
     "end_time": "2021-06-21T10:44:58.461622",
     "exception": false,
     "start_time": "2021-06-21T10:44:58.382966",
     "status": "completed"
    },
    "tags": []
   },
   "source": [
    "## *Model Building*"
   ]
  },
  {
   "cell_type": "code",
   "execution_count": 46,
   "id": "latin-romania",
   "metadata": {
    "papermill": {
     "duration": 0.647873,
     "end_time": "2021-06-21T10:44:59.188586",
     "exception": false,
     "start_time": "2021-06-21T10:44:58.540713",
     "status": "completed"
    },
    "tags": []
   },
   "outputs": [],
   "source": [
    "# Now Ensemble Techniques (Bagging and Boosting)\n",
    "\n",
    "from sklearn.ensemble import RandomForestClassifier\n",
    "from xgboost import XGBClassifier"
   ]
  },
  {
   "cell_type": "code",
   "execution_count": 47,
   "id": "filled-lighting",
   "metadata": {
    "papermill": {
     "duration": 0.09371,
     "end_time": "2021-06-21T10:45:31.443497",
     "exception": false,
     "start_time": "2021-06-21T10:45:31.349787",
     "status": "completed"
    },
    "tags": []
   },
   "outputs": [],
   "source": [
    "# Evaluate Model Performance\n",
    "\n",
    "from sklearn.metrics import accuracy_score, confusion_matrix, f1_score, roc_auc_score, RocCurveDisplay, auc"
   ]
  },
  {
   "cell_type": "code",
   "execution_count": 48,
   "id": "e7b24cd9-6e8c-4afa-91dd-af7fcb058f1b",
   "metadata": {},
   "outputs": [],
   "source": [
    "# import mlflow\n",
    "# import mlflow.sklearn\n",
    "# mlflow.set_experiment(experimentName)"
   ]
  },
  {
   "cell_type": "code",
   "execution_count": 49,
   "id": "6ef56ae3-e2ae-43b4-b887-b800b996afbb",
   "metadata": {},
   "outputs": [],
   "source": [
    "# mlflow.start_run()"
   ]
  },
  {
   "cell_type": "code",
   "execution_count": 50,
   "id": "banned-consolidation",
   "metadata": {
    "papermill": {
     "duration": 31.993685,
     "end_time": "2021-06-21T10:45:31.266768",
     "exception": false,
     "start_time": "2021-06-21T10:44:59.273083",
     "status": "completed"
    },
    "tags": []
   },
   "outputs": [
    {
     "name": "stderr",
     "output_type": "stream",
     "text": [
      "/home/cdsw/.local/lib/python3.10/site-packages/sklearn/base.py:1473: DataConversionWarning: A column-vector y was passed when a 1d array was expected. Please change the shape of y to (n_samples,), for example using ravel().\n",
      "  return fit_method(estimator, *args, **kwargs)\n"
     ]
    },
    {
     "data": {
      "text/html": [
       "<style>#sk-container-id-1 {\n",
       "  /* Definition of color scheme common for light and dark mode */\n",
       "  --sklearn-color-text: black;\n",
       "  --sklearn-color-line: gray;\n",
       "  /* Definition of color scheme for unfitted estimators */\n",
       "  --sklearn-color-unfitted-level-0: #fff5e6;\n",
       "  --sklearn-color-unfitted-level-1: #f6e4d2;\n",
       "  --sklearn-color-unfitted-level-2: #ffe0b3;\n",
       "  --sklearn-color-unfitted-level-3: chocolate;\n",
       "  /* Definition of color scheme for fitted estimators */\n",
       "  --sklearn-color-fitted-level-0: #f0f8ff;\n",
       "  --sklearn-color-fitted-level-1: #d4ebff;\n",
       "  --sklearn-color-fitted-level-2: #b3dbfd;\n",
       "  --sklearn-color-fitted-level-3: cornflowerblue;\n",
       "\n",
       "  /* Specific color for light theme */\n",
       "  --sklearn-color-text-on-default-background: var(--sg-text-color, var(--theme-code-foreground, var(--jp-content-font-color1, black)));\n",
       "  --sklearn-color-background: var(--sg-background-color, var(--theme-background, var(--jp-layout-color0, white)));\n",
       "  --sklearn-color-border-box: var(--sg-text-color, var(--theme-code-foreground, var(--jp-content-font-color1, black)));\n",
       "  --sklearn-color-icon: #696969;\n",
       "\n",
       "  @media (prefers-color-scheme: dark) {\n",
       "    /* Redefinition of color scheme for dark theme */\n",
       "    --sklearn-color-text-on-default-background: var(--sg-text-color, var(--theme-code-foreground, var(--jp-content-font-color1, white)));\n",
       "    --sklearn-color-background: var(--sg-background-color, var(--theme-background, var(--jp-layout-color0, #111)));\n",
       "    --sklearn-color-border-box: var(--sg-text-color, var(--theme-code-foreground, var(--jp-content-font-color1, white)));\n",
       "    --sklearn-color-icon: #878787;\n",
       "  }\n",
       "}\n",
       "\n",
       "#sk-container-id-1 {\n",
       "  color: var(--sklearn-color-text);\n",
       "}\n",
       "\n",
       "#sk-container-id-1 pre {\n",
       "  padding: 0;\n",
       "}\n",
       "\n",
       "#sk-container-id-1 input.sk-hidden--visually {\n",
       "  border: 0;\n",
       "  clip: rect(1px 1px 1px 1px);\n",
       "  clip: rect(1px, 1px, 1px, 1px);\n",
       "  height: 1px;\n",
       "  margin: -1px;\n",
       "  overflow: hidden;\n",
       "  padding: 0;\n",
       "  position: absolute;\n",
       "  width: 1px;\n",
       "}\n",
       "\n",
       "#sk-container-id-1 div.sk-dashed-wrapped {\n",
       "  border: 1px dashed var(--sklearn-color-line);\n",
       "  margin: 0 0.4em 0.5em 0.4em;\n",
       "  box-sizing: border-box;\n",
       "  padding-bottom: 0.4em;\n",
       "  background-color: var(--sklearn-color-background);\n",
       "}\n",
       "\n",
       "#sk-container-id-1 div.sk-container {\n",
       "  /* jupyter's `normalize.less` sets `[hidden] { display: none; }`\n",
       "     but bootstrap.min.css set `[hidden] { display: none !important; }`\n",
       "     so we also need the `!important` here to be able to override the\n",
       "     default hidden behavior on the sphinx rendered scikit-learn.org.\n",
       "     See: https://github.com/scikit-learn/scikit-learn/issues/21755 */\n",
       "  display: inline-block !important;\n",
       "  position: relative;\n",
       "}\n",
       "\n",
       "#sk-container-id-1 div.sk-text-repr-fallback {\n",
       "  display: none;\n",
       "}\n",
       "\n",
       "div.sk-parallel-item,\n",
       "div.sk-serial,\n",
       "div.sk-item {\n",
       "  /* draw centered vertical line to link estimators */\n",
       "  background-image: linear-gradient(var(--sklearn-color-text-on-default-background), var(--sklearn-color-text-on-default-background));\n",
       "  background-size: 2px 100%;\n",
       "  background-repeat: no-repeat;\n",
       "  background-position: center center;\n",
       "}\n",
       "\n",
       "/* Parallel-specific style estimator block */\n",
       "\n",
       "#sk-container-id-1 div.sk-parallel-item::after {\n",
       "  content: \"\";\n",
       "  width: 100%;\n",
       "  border-bottom: 2px solid var(--sklearn-color-text-on-default-background);\n",
       "  flex-grow: 1;\n",
       "}\n",
       "\n",
       "#sk-container-id-1 div.sk-parallel {\n",
       "  display: flex;\n",
       "  align-items: stretch;\n",
       "  justify-content: center;\n",
       "  background-color: var(--sklearn-color-background);\n",
       "  position: relative;\n",
       "}\n",
       "\n",
       "#sk-container-id-1 div.sk-parallel-item {\n",
       "  display: flex;\n",
       "  flex-direction: column;\n",
       "}\n",
       "\n",
       "#sk-container-id-1 div.sk-parallel-item:first-child::after {\n",
       "  align-self: flex-end;\n",
       "  width: 50%;\n",
       "}\n",
       "\n",
       "#sk-container-id-1 div.sk-parallel-item:last-child::after {\n",
       "  align-self: flex-start;\n",
       "  width: 50%;\n",
       "}\n",
       "\n",
       "#sk-container-id-1 div.sk-parallel-item:only-child::after {\n",
       "  width: 0;\n",
       "}\n",
       "\n",
       "/* Serial-specific style estimator block */\n",
       "\n",
       "#sk-container-id-1 div.sk-serial {\n",
       "  display: flex;\n",
       "  flex-direction: column;\n",
       "  align-items: center;\n",
       "  background-color: var(--sklearn-color-background);\n",
       "  padding-right: 1em;\n",
       "  padding-left: 1em;\n",
       "}\n",
       "\n",
       "\n",
       "/* Toggleable style: style used for estimator/Pipeline/ColumnTransformer box that is\n",
       "clickable and can be expanded/collapsed.\n",
       "- Pipeline and ColumnTransformer use this feature and define the default style\n",
       "- Estimators will overwrite some part of the style using the `sk-estimator` class\n",
       "*/\n",
       "\n",
       "/* Pipeline and ColumnTransformer style (default) */\n",
       "\n",
       "#sk-container-id-1 div.sk-toggleable {\n",
       "  /* Default theme specific background. It is overwritten whether we have a\n",
       "  specific estimator or a Pipeline/ColumnTransformer */\n",
       "  background-color: var(--sklearn-color-background);\n",
       "}\n",
       "\n",
       "/* Toggleable label */\n",
       "#sk-container-id-1 label.sk-toggleable__label {\n",
       "  cursor: pointer;\n",
       "  display: block;\n",
       "  width: 100%;\n",
       "  margin-bottom: 0;\n",
       "  padding: 0.5em;\n",
       "  box-sizing: border-box;\n",
       "  text-align: center;\n",
       "}\n",
       "\n",
       "#sk-container-id-1 label.sk-toggleable__label-arrow:before {\n",
       "  /* Arrow on the left of the label */\n",
       "  content: \"▸\";\n",
       "  float: left;\n",
       "  margin-right: 0.25em;\n",
       "  color: var(--sklearn-color-icon);\n",
       "}\n",
       "\n",
       "#sk-container-id-1 label.sk-toggleable__label-arrow:hover:before {\n",
       "  color: var(--sklearn-color-text);\n",
       "}\n",
       "\n",
       "/* Toggleable content - dropdown */\n",
       "\n",
       "#sk-container-id-1 div.sk-toggleable__content {\n",
       "  max-height: 0;\n",
       "  max-width: 0;\n",
       "  overflow: hidden;\n",
       "  text-align: left;\n",
       "  /* unfitted */\n",
       "  background-color: var(--sklearn-color-unfitted-level-0);\n",
       "}\n",
       "\n",
       "#sk-container-id-1 div.sk-toggleable__content.fitted {\n",
       "  /* fitted */\n",
       "  background-color: var(--sklearn-color-fitted-level-0);\n",
       "}\n",
       "\n",
       "#sk-container-id-1 div.sk-toggleable__content pre {\n",
       "  margin: 0.2em;\n",
       "  border-radius: 0.25em;\n",
       "  color: var(--sklearn-color-text);\n",
       "  /* unfitted */\n",
       "  background-color: var(--sklearn-color-unfitted-level-0);\n",
       "}\n",
       "\n",
       "#sk-container-id-1 div.sk-toggleable__content.fitted pre {\n",
       "  /* unfitted */\n",
       "  background-color: var(--sklearn-color-fitted-level-0);\n",
       "}\n",
       "\n",
       "#sk-container-id-1 input.sk-toggleable__control:checked~div.sk-toggleable__content {\n",
       "  /* Expand drop-down */\n",
       "  max-height: 200px;\n",
       "  max-width: 100%;\n",
       "  overflow: auto;\n",
       "}\n",
       "\n",
       "#sk-container-id-1 input.sk-toggleable__control:checked~label.sk-toggleable__label-arrow:before {\n",
       "  content: \"▾\";\n",
       "}\n",
       "\n",
       "/* Pipeline/ColumnTransformer-specific style */\n",
       "\n",
       "#sk-container-id-1 div.sk-label input.sk-toggleable__control:checked~label.sk-toggleable__label {\n",
       "  color: var(--sklearn-color-text);\n",
       "  background-color: var(--sklearn-color-unfitted-level-2);\n",
       "}\n",
       "\n",
       "#sk-container-id-1 div.sk-label.fitted input.sk-toggleable__control:checked~label.sk-toggleable__label {\n",
       "  background-color: var(--sklearn-color-fitted-level-2);\n",
       "}\n",
       "\n",
       "/* Estimator-specific style */\n",
       "\n",
       "/* Colorize estimator box */\n",
       "#sk-container-id-1 div.sk-estimator input.sk-toggleable__control:checked~label.sk-toggleable__label {\n",
       "  /* unfitted */\n",
       "  background-color: var(--sklearn-color-unfitted-level-2);\n",
       "}\n",
       "\n",
       "#sk-container-id-1 div.sk-estimator.fitted input.sk-toggleable__control:checked~label.sk-toggleable__label {\n",
       "  /* fitted */\n",
       "  background-color: var(--sklearn-color-fitted-level-2);\n",
       "}\n",
       "\n",
       "#sk-container-id-1 div.sk-label label.sk-toggleable__label,\n",
       "#sk-container-id-1 div.sk-label label {\n",
       "  /* The background is the default theme color */\n",
       "  color: var(--sklearn-color-text-on-default-background);\n",
       "}\n",
       "\n",
       "/* On hover, darken the color of the background */\n",
       "#sk-container-id-1 div.sk-label:hover label.sk-toggleable__label {\n",
       "  color: var(--sklearn-color-text);\n",
       "  background-color: var(--sklearn-color-unfitted-level-2);\n",
       "}\n",
       "\n",
       "/* Label box, darken color on hover, fitted */\n",
       "#sk-container-id-1 div.sk-label.fitted:hover label.sk-toggleable__label.fitted {\n",
       "  color: var(--sklearn-color-text);\n",
       "  background-color: var(--sklearn-color-fitted-level-2);\n",
       "}\n",
       "\n",
       "/* Estimator label */\n",
       "\n",
       "#sk-container-id-1 div.sk-label label {\n",
       "  font-family: monospace;\n",
       "  font-weight: bold;\n",
       "  display: inline-block;\n",
       "  line-height: 1.2em;\n",
       "}\n",
       "\n",
       "#sk-container-id-1 div.sk-label-container {\n",
       "  text-align: center;\n",
       "}\n",
       "\n",
       "/* Estimator-specific */\n",
       "#sk-container-id-1 div.sk-estimator {\n",
       "  font-family: monospace;\n",
       "  border: 1px dotted var(--sklearn-color-border-box);\n",
       "  border-radius: 0.25em;\n",
       "  box-sizing: border-box;\n",
       "  margin-bottom: 0.5em;\n",
       "  /* unfitted */\n",
       "  background-color: var(--sklearn-color-unfitted-level-0);\n",
       "}\n",
       "\n",
       "#sk-container-id-1 div.sk-estimator.fitted {\n",
       "  /* fitted */\n",
       "  background-color: var(--sklearn-color-fitted-level-0);\n",
       "}\n",
       "\n",
       "/* on hover */\n",
       "#sk-container-id-1 div.sk-estimator:hover {\n",
       "  /* unfitted */\n",
       "  background-color: var(--sklearn-color-unfitted-level-2);\n",
       "}\n",
       "\n",
       "#sk-container-id-1 div.sk-estimator.fitted:hover {\n",
       "  /* fitted */\n",
       "  background-color: var(--sklearn-color-fitted-level-2);\n",
       "}\n",
       "\n",
       "/* Specification for estimator info (e.g. \"i\" and \"?\") */\n",
       "\n",
       "/* Common style for \"i\" and \"?\" */\n",
       "\n",
       ".sk-estimator-doc-link,\n",
       "a:link.sk-estimator-doc-link,\n",
       "a:visited.sk-estimator-doc-link {\n",
       "  float: right;\n",
       "  font-size: smaller;\n",
       "  line-height: 1em;\n",
       "  font-family: monospace;\n",
       "  background-color: var(--sklearn-color-background);\n",
       "  border-radius: 1em;\n",
       "  height: 1em;\n",
       "  width: 1em;\n",
       "  text-decoration: none !important;\n",
       "  margin-left: 1ex;\n",
       "  /* unfitted */\n",
       "  border: var(--sklearn-color-unfitted-level-1) 1pt solid;\n",
       "  color: var(--sklearn-color-unfitted-level-1);\n",
       "}\n",
       "\n",
       ".sk-estimator-doc-link.fitted,\n",
       "a:link.sk-estimator-doc-link.fitted,\n",
       "a:visited.sk-estimator-doc-link.fitted {\n",
       "  /* fitted */\n",
       "  border: var(--sklearn-color-fitted-level-1) 1pt solid;\n",
       "  color: var(--sklearn-color-fitted-level-1);\n",
       "}\n",
       "\n",
       "/* On hover */\n",
       "div.sk-estimator:hover .sk-estimator-doc-link:hover,\n",
       ".sk-estimator-doc-link:hover,\n",
       "div.sk-label-container:hover .sk-estimator-doc-link:hover,\n",
       ".sk-estimator-doc-link:hover {\n",
       "  /* unfitted */\n",
       "  background-color: var(--sklearn-color-unfitted-level-3);\n",
       "  color: var(--sklearn-color-background);\n",
       "  text-decoration: none;\n",
       "}\n",
       "\n",
       "div.sk-estimator.fitted:hover .sk-estimator-doc-link.fitted:hover,\n",
       ".sk-estimator-doc-link.fitted:hover,\n",
       "div.sk-label-container:hover .sk-estimator-doc-link.fitted:hover,\n",
       ".sk-estimator-doc-link.fitted:hover {\n",
       "  /* fitted */\n",
       "  background-color: var(--sklearn-color-fitted-level-3);\n",
       "  color: var(--sklearn-color-background);\n",
       "  text-decoration: none;\n",
       "}\n",
       "\n",
       "/* Span, style for the box shown on hovering the info icon */\n",
       ".sk-estimator-doc-link span {\n",
       "  display: none;\n",
       "  z-index: 9999;\n",
       "  position: relative;\n",
       "  font-weight: normal;\n",
       "  right: .2ex;\n",
       "  padding: .5ex;\n",
       "  margin: .5ex;\n",
       "  width: min-content;\n",
       "  min-width: 20ex;\n",
       "  max-width: 50ex;\n",
       "  color: var(--sklearn-color-text);\n",
       "  box-shadow: 2pt 2pt 4pt #999;\n",
       "  /* unfitted */\n",
       "  background: var(--sklearn-color-unfitted-level-0);\n",
       "  border: .5pt solid var(--sklearn-color-unfitted-level-3);\n",
       "}\n",
       "\n",
       ".sk-estimator-doc-link.fitted span {\n",
       "  /* fitted */\n",
       "  background: var(--sklearn-color-fitted-level-0);\n",
       "  border: var(--sklearn-color-fitted-level-3);\n",
       "}\n",
       "\n",
       ".sk-estimator-doc-link:hover span {\n",
       "  display: block;\n",
       "}\n",
       "\n",
       "/* \"?\"-specific style due to the `<a>` HTML tag */\n",
       "\n",
       "#sk-container-id-1 a.estimator_doc_link {\n",
       "  float: right;\n",
       "  font-size: 1rem;\n",
       "  line-height: 1em;\n",
       "  font-family: monospace;\n",
       "  background-color: var(--sklearn-color-background);\n",
       "  border-radius: 1rem;\n",
       "  height: 1rem;\n",
       "  width: 1rem;\n",
       "  text-decoration: none;\n",
       "  /* unfitted */\n",
       "  color: var(--sklearn-color-unfitted-level-1);\n",
       "  border: var(--sklearn-color-unfitted-level-1) 1pt solid;\n",
       "}\n",
       "\n",
       "#sk-container-id-1 a.estimator_doc_link.fitted {\n",
       "  /* fitted */\n",
       "  border: var(--sklearn-color-fitted-level-1) 1pt solid;\n",
       "  color: var(--sklearn-color-fitted-level-1);\n",
       "}\n",
       "\n",
       "/* On hover */\n",
       "#sk-container-id-1 a.estimator_doc_link:hover {\n",
       "  /* unfitted */\n",
       "  background-color: var(--sklearn-color-unfitted-level-3);\n",
       "  color: var(--sklearn-color-background);\n",
       "  text-decoration: none;\n",
       "}\n",
       "\n",
       "#sk-container-id-1 a.estimator_doc_link.fitted:hover {\n",
       "  /* fitted */\n",
       "  background-color: var(--sklearn-color-fitted-level-3);\n",
       "}\n",
       "</style><div id=\"sk-container-id-1\" class=\"sk-top-container\"><div class=\"sk-text-repr-fallback\"><pre>RandomForestClassifier()</pre><b>In a Jupyter environment, please rerun this cell to show the HTML representation or trust the notebook. <br />On GitHub, the HTML representation is unable to render, please try loading this page with nbviewer.org.</b></div><div class=\"sk-container\" hidden><div class=\"sk-item\"><div class=\"sk-estimator fitted sk-toggleable\"><input class=\"sk-toggleable__control sk-hidden--visually\" id=\"sk-estimator-id-1\" type=\"checkbox\" checked><label for=\"sk-estimator-id-1\" class=\"sk-toggleable__label fitted sk-toggleable__label-arrow fitted\">&nbsp;&nbsp;RandomForestClassifier<a class=\"sk-estimator-doc-link fitted\" rel=\"noreferrer\" target=\"_blank\" href=\"https://scikit-learn.org/1.5/modules/generated/sklearn.ensemble.RandomForestClassifier.html\">?<span>Documentation for RandomForestClassifier</span></a><span class=\"sk-estimator-doc-link fitted\">i<span>Fitted</span></span></label><div class=\"sk-toggleable__content fitted\"><pre>RandomForestClassifier()</pre></div> </div></div></div></div>"
      ],
      "text/plain": [
       "RandomForestClassifier()"
      ]
     },
     "execution_count": 50,
     "metadata": {},
     "output_type": "execute_result"
    }
   ],
   "source": [
    "# Fitting random forest classifier\n",
    "\n",
    "rf = RandomForestClassifier()\n",
    "rf.fit(X_train, y_train)"
   ]
  },
  {
   "cell_type": "code",
   "execution_count": 51,
   "id": "57ffffb7-a030-4bcf-bd51-55e4e2f63ea7",
   "metadata": {},
   "outputs": [],
   "source": [
    "rf_pred = rf.predict(X_test)"
   ]
  },
  {
   "cell_type": "code",
   "execution_count": 52,
   "id": "1d118234-1218-4df5-b202-07183bfa5ed3",
   "metadata": {},
   "outputs": [],
   "source": [
    "rf_auc = roc_auc_score(y_test, rf_pred)"
   ]
  },
  {
   "cell_type": "code",
   "execution_count": 53,
   "id": "professional-gardening",
   "metadata": {
    "papermill": {
     "duration": 1.940974,
     "end_time": "2021-06-21T10:45:33.472689",
     "exception": false,
     "start_time": "2021-06-21T10:45:31.531715",
     "status": "completed"
    },
    "tags": []
   },
   "outputs": [
    {
     "data": {
      "text/plain": [
       "0.7546898232743511"
      ]
     },
     "execution_count": 53,
     "metadata": {},
     "output_type": "execute_result"
    }
   ],
   "source": [
    "rf_auc = roc_auc_score(y_test, rf_pred)\n",
    "rf_auc"
   ]
  },
  {
   "cell_type": "code",
   "execution_count": 54,
   "id": "adjustable-reviewer",
   "metadata": {
    "papermill": {
     "duration": 0.265831,
     "end_time": "2021-06-21T10:47:21.213150",
     "exception": false,
     "start_time": "2021-06-21T10:47:20.947319",
     "status": "completed"
    },
    "tags": []
   },
   "outputs": [
    {
     "data": {
      "image/png": "[encoded data removed]",
      "text/plain": [
       "<Figure size 432x288 with 1 Axes>"
      ]
     },
     "metadata": {
      "needs_background": "light"
     },
     "output_type": "display_data"
    }
   ],
   "source": [
    "# Plotting roc curve\n",
    "\n",
    "from sklearn import metrics\n",
    "\n",
    "false_positive_rate, true_positive_rate, thresholds = metrics.roc_curve(y_test, rf_pred)\n",
    "roc_auc = metrics.auc(false_positive_rate, true_positive_rate)\n",
    "plt.plot(false_positive_rate, true_positive_rate,label='RF AUC Level = %0.2f' % (roc_auc))\n",
    "plt.legend(loc='lower right')\n",
    "plt.plot([0, 1], [0, 1], 'r--')\n",
    "plt.xlim([0, 1])\n",
    "plt.ylim([0, 1])\n",
    "plt.ylabel('True Positive Rate')\n",
    "plt.xlabel('False Positive Rate')\n",
    "#save the plot as a variable\n",
    "fig = plt.gcf()\n",
    "\n",
    "plt.show()\n",
    "\n"
   ]
  },
  {
   "cell_type": "code",
   "execution_count": 55,
   "id": "db801f41-c164-4bad-a00b-8f1a73454bfd",
   "metadata": {},
   "outputs": [],
   "source": [
    "\n",
    "# mlflow.log_param(\"iceberg_snapshot\",first_snapshot)\n",
    "# mlflow.log_param(\"feature_table\",train_tablename)\n",
    "# mlflow.log_param(\"classifier\",\"RandomForestClassifier\")\n",
    "# mlflow.log_metric(\"auc\", rf_auc)\n",
    "# mlflow.log_figure(fig, \"rf_auc.png\")\n",
    "# mlflow.sklearn.log_model(rf, \"rf_model\")\n",
    "  "
   ]
  },
  {
   "cell_type": "code",
   "execution_count": 56,
   "id": "5ed2a1b7-9e79-4ac8-a351-44f1f4b0d601",
   "metadata": {},
   "outputs": [],
   "source": [
    "\n",
    "# mlflow.end_run()"
   ]
  },
  {
   "cell_type": "code",
   "execution_count": null,
   "id": "e6bf2f14-f626-4cc5-b26b-bac75d7e92a3",
   "metadata": {},
   "outputs": [],
   "source": []
  },
  {
   "cell_type": "markdown",
   "id": "1c601a1a-70a5-478c-bebe-408c3b74015d",
   "metadata": {},
   "source": [
    "** Save File **"
   ]
  },
  {
   "cell_type": "code",
   "execution_count": 57,
   "id": "97053c31-4fe4-49df-aca3-5fb6b5a6115a",
   "metadata": {},
   "outputs": [],
   "source": [
    "with open('models_from_code/random_forest_model.pkl', 'wb') as model_file:\n",
    "    pickle.dump(rf, model_file)"
   ]
  },
  {
   "cell_type": "markdown",
   "id": "fecd1b09-cc25-4031-9e46-76a4ea501b34",
   "metadata": {},
   "source": [
    "### Stop here 9-30-24"
   ]
  },
  {
   "cell_type": "code",
   "execution_count": 47,
   "id": "0fa6f782-2e90-48ca-acb2-9089bed9debe",
   "metadata": {},
   "outputs": [
    {
     "data": {
      "text/plain": [
       "<ActiveRun: >"
      ]
     },
     "execution_count": 47,
     "metadata": {},
     "output_type": "execute_result"
    }
   ],
   "source": [
    "# Start a new entry\n",
    "#mlflow.start_run()"
   ]
  },
  {
   "cell_type": "code",
   "execution_count": 48,
   "id": "fabulous-international",
   "metadata": {
    "papermill": {
     "duration": 11.353211,
     "end_time": "2021-06-21T10:45:44.906434",
     "exception": false,
     "start_time": "2021-06-21T10:45:33.553223",
     "status": "completed"
    },
    "tags": []
   },
   "outputs": [
    {
     "data": {
      "text/html": [
       "<style>#sk-container-id-2 {\n",
       "  /* Definition of color scheme common for light and dark mode */\n",
       "  --sklearn-color-text: black;\n",
       "  --sklearn-color-line: gray;\n",
       "  /* Definition of color scheme for unfitted estimators */\n",
       "  --sklearn-color-unfitted-level-0: #fff5e6;\n",
       "  --sklearn-color-unfitted-level-1: #f6e4d2;\n",
       "  --sklearn-color-unfitted-level-2: #ffe0b3;\n",
       "  --sklearn-color-unfitted-level-3: chocolate;\n",
       "  /* Definition of color scheme for fitted estimators */\n",
       "  --sklearn-color-fitted-level-0: #f0f8ff;\n",
       "  --sklearn-color-fitted-level-1: #d4ebff;\n",
       "  --sklearn-color-fitted-level-2: #b3dbfd;\n",
       "  --sklearn-color-fitted-level-3: cornflowerblue;\n",
       "\n",
       "  /* Specific color for light theme */\n",
       "  --sklearn-color-text-on-default-background: var(--sg-text-color, var(--theme-code-foreground, var(--jp-content-font-color1, black)));\n",
       "  --sklearn-color-background: var(--sg-background-color, var(--theme-background, var(--jp-layout-color0, white)));\n",
       "  --sklearn-color-border-box: var(--sg-text-color, var(--theme-code-foreground, var(--jp-content-font-color1, black)));\n",
       "  --sklearn-color-icon: #696969;\n",
       "\n",
       "  @media (prefers-color-scheme: dark) {\n",
       "    /* Redefinition of color scheme for dark theme */\n",
       "    --sklearn-color-text-on-default-background: var(--sg-text-color, var(--theme-code-foreground, var(--jp-content-font-color1, white)));\n",
       "    --sklearn-color-background: var(--sg-background-color, var(--theme-background, var(--jp-layout-color0, #111)));\n",
       "    --sklearn-color-border-box: var(--sg-text-color, var(--theme-code-foreground, var(--jp-content-font-color1, white)));\n",
       "    --sklearn-color-icon: #878787;\n",
       "  }\n",
       "}\n",
       "\n",
       "#sk-container-id-2 {\n",
       "  color: var(--sklearn-color-text);\n",
       "}\n",
       "\n",
       "#sk-container-id-2 pre {\n",
       "  padding: 0;\n",
       "}\n",
       "\n",
       "#sk-container-id-2 input.sk-hidden--visually {\n",
       "  border: 0;\n",
       "  clip: rect(1px 1px 1px 1px);\n",
       "  clip: rect(1px, 1px, 1px, 1px);\n",
       "  height: 1px;\n",
       "  margin: -1px;\n",
       "  overflow: hidden;\n",
       "  padding: 0;\n",
       "  position: absolute;\n",
       "  width: 1px;\n",
       "}\n",
       "\n",
       "#sk-container-id-2 div.sk-dashed-wrapped {\n",
       "  border: 1px dashed var(--sklearn-color-line);\n",
       "  margin: 0 0.4em 0.5em 0.4em;\n",
       "  box-sizing: border-box;\n",
       "  padding-bottom: 0.4em;\n",
       "  background-color: var(--sklearn-color-background);\n",
       "}\n",
       "\n",
       "#sk-container-id-2 div.sk-container {\n",
       "  /* jupyter's `normalize.less` sets `[hidden] { display: none; }`\n",
       "     but bootstrap.min.css set `[hidden] { display: none !important; }`\n",
       "     so we also need the `!important` here to be able to override the\n",
       "     default hidden behavior on the sphinx rendered scikit-learn.org.\n",
       "     See: https://github.com/scikit-learn/scikit-learn/issues/21755 */\n",
       "  display: inline-block !important;\n",
       "  position: relative;\n",
       "}\n",
       "\n",
       "#sk-container-id-2 div.sk-text-repr-fallback {\n",
       "  display: none;\n",
       "}\n",
       "\n",
       "div.sk-parallel-item,\n",
       "div.sk-serial,\n",
       "div.sk-item {\n",
       "  /* draw centered vertical line to link estimators */\n",
       "  background-image: linear-gradient(var(--sklearn-color-text-on-default-background), var(--sklearn-color-text-on-default-background));\n",
       "  background-size: 2px 100%;\n",
       "  background-repeat: no-repeat;\n",
       "  background-position: center center;\n",
       "}\n",
       "\n",
       "/* Parallel-specific style estimator block */\n",
       "\n",
       "#sk-container-id-2 div.sk-parallel-item::after {\n",
       "  content: \"\";\n",
       "  width: 100%;\n",
       "  border-bottom: 2px solid var(--sklearn-color-text-on-default-background);\n",
       "  flex-grow: 1;\n",
       "}\n",
       "\n",
       "#sk-container-id-2 div.sk-parallel {\n",
       "  display: flex;\n",
       "  align-items: stretch;\n",
       "  justify-content: center;\n",
       "  background-color: var(--sklearn-color-background);\n",
       "  position: relative;\n",
       "}\n",
       "\n",
       "#sk-container-id-2 div.sk-parallel-item {\n",
       "  display: flex;\n",
       "  flex-direction: column;\n",
       "}\n",
       "\n",
       "#sk-container-id-2 div.sk-parallel-item:first-child::after {\n",
       "  align-self: flex-end;\n",
       "  width: 50%;\n",
       "}\n",
       "\n",
       "#sk-container-id-2 div.sk-parallel-item:last-child::after {\n",
       "  align-self: flex-start;\n",
       "  width: 50%;\n",
       "}\n",
       "\n",
       "#sk-container-id-2 div.sk-parallel-item:only-child::after {\n",
       "  width: 0;\n",
       "}\n",
       "\n",
       "/* Serial-specific style estimator block */\n",
       "\n",
       "#sk-container-id-2 div.sk-serial {\n",
       "  display: flex;\n",
       "  flex-direction: column;\n",
       "  align-items: center;\n",
       "  background-color: var(--sklearn-color-background);\n",
       "  padding-right: 1em;\n",
       "  padding-left: 1em;\n",
       "}\n",
       "\n",
       "\n",
       "/* Toggleable style: style used for estimator/Pipeline/ColumnTransformer box that is\n",
       "clickable and can be expanded/collapsed.\n",
       "- Pipeline and ColumnTransformer use this feature and define the default style\n",
       "- Estimators will overwrite some part of the style using the `sk-estimator` class\n",
       "*/\n",
       "\n",
       "/* Pipeline and ColumnTransformer style (default) */\n",
       "\n",
       "#sk-container-id-2 div.sk-toggleable {\n",
       "  /* Default theme specific background. It is overwritten whether we have a\n",
       "  specific estimator or a Pipeline/ColumnTransformer */\n",
       "  background-color: var(--sklearn-color-background);\n",
       "}\n",
       "\n",
       "/* Toggleable label */\n",
       "#sk-container-id-2 label.sk-toggleable__label {\n",
       "  cursor: pointer;\n",
       "  display: block;\n",
       "  width: 100%;\n",
       "  margin-bottom: 0;\n",
       "  padding: 0.5em;\n",
       "  box-sizing: border-box;\n",
       "  text-align: center;\n",
       "}\n",
       "\n",
       "#sk-container-id-2 label.sk-toggleable__label-arrow:before {\n",
       "  /* Arrow on the left of the label */\n",
       "  content: \"▸\";\n",
       "  float: left;\n",
       "  margin-right: 0.25em;\n",
       "  color: var(--sklearn-color-icon);\n",
       "}\n",
       "\n",
       "#sk-container-id-2 label.sk-toggleable__label-arrow:hover:before {\n",
       "  color: var(--sklearn-color-text);\n",
       "}\n",
       "\n",
       "/* Toggleable content - dropdown */\n",
       "\n",
       "#sk-container-id-2 div.sk-toggleable__content {\n",
       "  max-height: 0;\n",
       "  max-width: 0;\n",
       "  overflow: hidden;\n",
       "  text-align: left;\n",
       "  /* unfitted */\n",
       "  background-color: var(--sklearn-color-unfitted-level-0);\n",
       "}\n",
       "\n",
       "#sk-container-id-2 div.sk-toggleable__content.fitted {\n",
       "  /* fitted */\n",
       "  background-color: var(--sklearn-color-fitted-level-0);\n",
       "}\n",
       "\n",
       "#sk-container-id-2 div.sk-toggleable__content pre {\n",
       "  margin: 0.2em;\n",
       "  border-radius: 0.25em;\n",
       "  color: var(--sklearn-color-text);\n",
       "  /* unfitted */\n",
       "  background-color: var(--sklearn-color-unfitted-level-0);\n",
       "}\n",
       "\n",
       "#sk-container-id-2 div.sk-toggleable__content.fitted pre {\n",
       "  /* unfitted */\n",
       "  background-color: var(--sklearn-color-fitted-level-0);\n",
       "}\n",
       "\n",
       "#sk-container-id-2 input.sk-toggleable__control:checked~div.sk-toggleable__content {\n",
       "  /* Expand drop-down */\n",
       "  max-height: 200px;\n",
       "  max-width: 100%;\n",
       "  overflow: auto;\n",
       "}\n",
       "\n",
       "#sk-container-id-2 input.sk-toggleable__control:checked~label.sk-toggleable__label-arrow:before {\n",
       "  content: \"▾\";\n",
       "}\n",
       "\n",
       "/* Pipeline/ColumnTransformer-specific style */\n",
       "\n",
       "#sk-container-id-2 div.sk-label input.sk-toggleable__control:checked~label.sk-toggleable__label {\n",
       "  color: var(--sklearn-color-text);\n",
       "  background-color: var(--sklearn-color-unfitted-level-2);\n",
       "}\n",
       "\n",
       "#sk-container-id-2 div.sk-label.fitted input.sk-toggleable__control:checked~label.sk-toggleable__label {\n",
       "  background-color: var(--sklearn-color-fitted-level-2);\n",
       "}\n",
       "\n",
       "/* Estimator-specific style */\n",
       "\n",
       "/* Colorize estimator box */\n",
       "#sk-container-id-2 div.sk-estimator input.sk-toggleable__control:checked~label.sk-toggleable__label {\n",
       "  /* unfitted */\n",
       "  background-color: var(--sklearn-color-unfitted-level-2);\n",
       "}\n",
       "\n",
       "#sk-container-id-2 div.sk-estimator.fitted input.sk-toggleable__control:checked~label.sk-toggleable__label {\n",
       "  /* fitted */\n",
       "  background-color: var(--sklearn-color-fitted-level-2);\n",
       "}\n",
       "\n",
       "#sk-container-id-2 div.sk-label label.sk-toggleable__label,\n",
       "#sk-container-id-2 div.sk-label label {\n",
       "  /* The background is the default theme color */\n",
       "  color: var(--sklearn-color-text-on-default-background);\n",
       "}\n",
       "\n",
       "/* On hover, darken the color of the background */\n",
       "#sk-container-id-2 div.sk-label:hover label.sk-toggleable__label {\n",
       "  color: var(--sklearn-color-text);\n",
       "  background-color: var(--sklearn-color-unfitted-level-2);\n",
       "}\n",
       "\n",
       "/* Label box, darken color on hover, fitted */\n",
       "#sk-container-id-2 div.sk-label.fitted:hover label.sk-toggleable__label.fitted {\n",
       "  color: var(--sklearn-color-text);\n",
       "  background-color: var(--sklearn-color-fitted-level-2);\n",
       "}\n",
       "\n",
       "/* Estimator label */\n",
       "\n",
       "#sk-container-id-2 div.sk-label label {\n",
       "  font-family: monospace;\n",
       "  font-weight: bold;\n",
       "  display: inline-block;\n",
       "  line-height: 1.2em;\n",
       "}\n",
       "\n",
       "#sk-container-id-2 div.sk-label-container {\n",
       "  text-align: center;\n",
       "}\n",
       "\n",
       "/* Estimator-specific */\n",
       "#sk-container-id-2 div.sk-estimator {\n",
       "  font-family: monospace;\n",
       "  border: 1px dotted var(--sklearn-color-border-box);\n",
       "  border-radius: 0.25em;\n",
       "  box-sizing: border-box;\n",
       "  margin-bottom: 0.5em;\n",
       "  /* unfitted */\n",
       "  background-color: var(--sklearn-color-unfitted-level-0);\n",
       "}\n",
       "\n",
       "#sk-container-id-2 div.sk-estimator.fitted {\n",
       "  /* fitted */\n",
       "  background-color: var(--sklearn-color-fitted-level-0);\n",
       "}\n",
       "\n",
       "/* on hover */\n",
       "#sk-container-id-2 div.sk-estimator:hover {\n",
       "  /* unfitted */\n",
       "  background-color: var(--sklearn-color-unfitted-level-2);\n",
       "}\n",
       "\n",
       "#sk-container-id-2 div.sk-estimator.fitted:hover {\n",
       "  /* fitted */\n",
       "  background-color: var(--sklearn-color-fitted-level-2);\n",
       "}\n",
       "\n",
       "/* Specification for estimator info (e.g. \"i\" and \"?\") */\n",
       "\n",
       "/* Common style for \"i\" and \"?\" */\n",
       "\n",
       ".sk-estimator-doc-link,\n",
       "a:link.sk-estimator-doc-link,\n",
       "a:visited.sk-estimator-doc-link {\n",
       "  float: right;\n",
       "  font-size: smaller;\n",
       "  line-height: 1em;\n",
       "  font-family: monospace;\n",
       "  background-color: var(--sklearn-color-background);\n",
       "  border-radius: 1em;\n",
       "  height: 1em;\n",
       "  width: 1em;\n",
       "  text-decoration: none !important;\n",
       "  margin-left: 1ex;\n",
       "  /* unfitted */\n",
       "  border: var(--sklearn-color-unfitted-level-1) 1pt solid;\n",
       "  color: var(--sklearn-color-unfitted-level-1);\n",
       "}\n",
       "\n",
       ".sk-estimator-doc-link.fitted,\n",
       "a:link.sk-estimator-doc-link.fitted,\n",
       "a:visited.sk-estimator-doc-link.fitted {\n",
       "  /* fitted */\n",
       "  border: var(--sklearn-color-fitted-level-1) 1pt solid;\n",
       "  color: var(--sklearn-color-fitted-level-1);\n",
       "}\n",
       "\n",
       "/* On hover */\n",
       "div.sk-estimator:hover .sk-estimator-doc-link:hover,\n",
       ".sk-estimator-doc-link:hover,\n",
       "div.sk-label-container:hover .sk-estimator-doc-link:hover,\n",
       ".sk-estimator-doc-link:hover {\n",
       "  /* unfitted */\n",
       "  background-color: var(--sklearn-color-unfitted-level-3);\n",
       "  color: var(--sklearn-color-background);\n",
       "  text-decoration: none;\n",
       "}\n",
       "\n",
       "div.sk-estimator.fitted:hover .sk-estimator-doc-link.fitted:hover,\n",
       ".sk-estimator-doc-link.fitted:hover,\n",
       "div.sk-label-container:hover .sk-estimator-doc-link.fitted:hover,\n",
       ".sk-estimator-doc-link.fitted:hover {\n",
       "  /* fitted */\n",
       "  background-color: var(--sklearn-color-fitted-level-3);\n",
       "  color: var(--sklearn-color-background);\n",
       "  text-decoration: none;\n",
       "}\n",
       "\n",
       "/* Span, style for the box shown on hovering the info icon */\n",
       ".sk-estimator-doc-link span {\n",
       "  display: none;\n",
       "  z-index: 9999;\n",
       "  position: relative;\n",
       "  font-weight: normal;\n",
       "  right: .2ex;\n",
       "  padding: .5ex;\n",
       "  margin: .5ex;\n",
       "  width: min-content;\n",
       "  min-width: 20ex;\n",
       "  max-width: 50ex;\n",
       "  color: var(--sklearn-color-text);\n",
       "  box-shadow: 2pt 2pt 4pt #999;\n",
       "  /* unfitted */\n",
       "  background: var(--sklearn-color-unfitted-level-0);\n",
       "  border: .5pt solid var(--sklearn-color-unfitted-level-3);\n",
       "}\n",
       "\n",
       ".sk-estimator-doc-link.fitted span {\n",
       "  /* fitted */\n",
       "  background: var(--sklearn-color-fitted-level-0);\n",
       "  border: var(--sklearn-color-fitted-level-3);\n",
       "}\n",
       "\n",
       ".sk-estimator-doc-link:hover span {\n",
       "  display: block;\n",
       "}\n",
       "\n",
       "/* \"?\"-specific style due to the `<a>` HTML tag */\n",
       "\n",
       "#sk-container-id-2 a.estimator_doc_link {\n",
       "  float: right;\n",
       "  font-size: 1rem;\n",
       "  line-height: 1em;\n",
       "  font-family: monospace;\n",
       "  background-color: var(--sklearn-color-background);\n",
       "  border-radius: 1rem;\n",
       "  height: 1rem;\n",
       "  width: 1rem;\n",
       "  text-decoration: none;\n",
       "  /* unfitted */\n",
       "  color: var(--sklearn-color-unfitted-level-1);\n",
       "  border: var(--sklearn-color-unfitted-level-1) 1pt solid;\n",
       "}\n",
       "\n",
       "#sk-container-id-2 a.estimator_doc_link.fitted {\n",
       "  /* fitted */\n",
       "  border: var(--sklearn-color-fitted-level-1) 1pt solid;\n",
       "  color: var(--sklearn-color-fitted-level-1);\n",
       "}\n",
       "\n",
       "/* On hover */\n",
       "#sk-container-id-2 a.estimator_doc_link:hover {\n",
       "  /* unfitted */\n",
       "  background-color: var(--sklearn-color-unfitted-level-3);\n",
       "  color: var(--sklearn-color-background);\n",
       "  text-decoration: none;\n",
       "}\n",
       "\n",
       "#sk-container-id-2 a.estimator_doc_link.fitted:hover {\n",
       "  /* fitted */\n",
       "  background-color: var(--sklearn-color-fitted-level-3);\n",
       "}\n",
       "</style><div id=\"sk-container-id-2\" class=\"sk-top-container\"><div class=\"sk-text-repr-fallback\"><pre>XGBClassifier(base_score=None, booster=None, callbacks=None,\n",
       "              colsample_bylevel=None, colsample_bynode=None,\n",
       "              colsample_bytree=None, device=None, early_stopping_rounds=None,\n",
       "              enable_categorical=False, eval_metric=None, feature_types=None,\n",
       "              gamma=None, grow_policy=None, importance_type=None,\n",
       "              interaction_constraints=None, learning_rate=None, max_bin=None,\n",
       "              max_cat_threshold=None, max_cat_to_onehot=None,\n",
       "              max_delta_step=None, max_depth=None, max_leaves=None,\n",
       "              min_child_weight=None, missing=nan, monotone_constraints=None,\n",
       "              multi_strategy=None, n_estimators=None, n_jobs=None,\n",
       "              num_parallel_tree=None, random_state=None, ...)</pre><b>In a Jupyter environment, please rerun this cell to show the HTML representation or trust the notebook. <br />On GitHub, the HTML representation is unable to render, please try loading this page with nbviewer.org.</b></div><div class=\"sk-container\" hidden><div class=\"sk-item\"><div class=\"sk-estimator fitted sk-toggleable\"><input class=\"sk-toggleable__control sk-hidden--visually\" id=\"sk-estimator-id-2\" type=\"checkbox\" checked><label for=\"sk-estimator-id-2\" class=\"sk-toggleable__label fitted sk-toggleable__label-arrow fitted\">&nbsp;XGBClassifier<span class=\"sk-estimator-doc-link fitted\">i<span>Fitted</span></span></label><div class=\"sk-toggleable__content fitted\"><pre>XGBClassifier(base_score=None, booster=None, callbacks=None,\n",
       "              colsample_bylevel=None, colsample_bynode=None,\n",
       "              colsample_bytree=None, device=None, early_stopping_rounds=None,\n",
       "              enable_categorical=False, eval_metric=None, feature_types=None,\n",
       "              gamma=None, grow_policy=None, importance_type=None,\n",
       "              interaction_constraints=None, learning_rate=None, max_bin=None,\n",
       "              max_cat_threshold=None, max_cat_to_onehot=None,\n",
       "              max_delta_step=None, max_depth=None, max_leaves=None,\n",
       "              min_child_weight=None, missing=nan, monotone_constraints=None,\n",
       "              multi_strategy=None, n_estimators=None, n_jobs=None,\n",
       "              num_parallel_tree=None, random_state=None, ...)</pre></div> </div></div></div></div>"
      ],
      "text/plain": [
       "XGBClassifier(base_score=None, booster=None, callbacks=None,\n",
       "              colsample_bylevel=None, colsample_bynode=None,\n",
       "              colsample_bytree=None, device=None, early_stopping_rounds=None,\n",
       "              enable_categorical=False, eval_metric=None, feature_types=None,\n",
       "              gamma=None, grow_policy=None, importance_type=None,\n",
       "              interaction_constraints=None, learning_rate=None, max_bin=None,\n",
       "              max_cat_threshold=None, max_cat_to_onehot=None,\n",
       "              max_delta_step=None, max_depth=None, max_leaves=None,\n",
       "              min_child_weight=None, missing=nan, monotone_constraints=None,\n",
       "              multi_strategy=None, n_estimators=None, n_jobs=None,\n",
       "              num_parallel_tree=None, random_state=None, ...)"
      ]
     },
     "execution_count": 48,
     "metadata": {},
     "output_type": "execute_result"
    }
   ],
   "source": [
    "# Fitting XGB Classifier\n",
    "\n",
    "xgb = XGBClassifier()\n",
    "xgb.fit(X_train, y_train)"
   ]
  },
  {
   "cell_type": "code",
   "execution_count": 49,
   "id": "alpine-comment",
   "metadata": {
    "papermill": {
     "duration": 2.094495,
     "end_time": "2021-06-21T10:45:47.085998",
     "exception": false,
     "start_time": "2021-06-21T10:45:44.991503",
     "status": "completed"
    },
    "tags": []
   },
   "outputs": [
    {
     "data": {
      "text/plain": [
       "0.7579946541142314"
      ]
     },
     "execution_count": 49,
     "metadata": {},
     "output_type": "execute_result"
    }
   ],
   "source": [
    "xgb_pred = rf.predict(X_test)\n",
    "\n",
    "xgb_auc = roc_auc_score(y_test, rf_pred)\n",
    "xgb_auc"
   ]
  },
  {
   "cell_type": "code",
   "execution_count": 50,
   "id": "1054c0ed-be9f-4095-9675-4b5eb7e4c5e1",
   "metadata": {},
   "outputs": [
    {
     "data": {
      "image/png": "[encoded data removed]",
      "text/plain": [
       "<Figure size 432x288 with 1 Axes>"
      ]
     },
     "metadata": {
      "needs_background": "light"
     },
     "output_type": "display_data"
    }
   ],
   "source": [
    "# Plotting roc curve\n",
    "\n",
    "from sklearn import metrics\n",
    "\n",
    "false_positive_rate, true_positive_rate, thresholds = metrics.roc_curve(y_test, xgb_pred)\n",
    "roc_auc = metrics.auc(false_positive_rate, true_positive_rate)\n",
    "plt.plot(false_positive_rate, true_positive_rate,label='XGB AUC Level = %0.2f' % (roc_auc))\n",
    "plt.legend(loc='lower right')\n",
    "plt.plot([0, 1], [0, 1], 'r--')\n",
    "plt.xlim([0, 1])\n",
    "plt.ylim([0, 1])\n",
    "plt.ylabel('True Positive Rate')\n",
    "plt.xlabel('False Positive Rate')\n",
    "#save the plot as a variable\n",
    "fig = plt.gcf()\n",
    "\n",
    "plt.show()\n"
   ]
  },
  {
   "cell_type": "code",
   "execution_count": 51,
   "id": "c8c33fa5-b521-4663-9d99-d9f3bee90d79",
   "metadata": {},
   "outputs": [
    {
     "data": {
      "text/plain": [
       "<mlflow.models.model.ModelInfo at 0x7f54d0a30d60>"
      ]
     },
     "execution_count": 51,
     "metadata": {},
     "output_type": "execute_result"
    }
   ],
   "source": [
    "mlflow.log_param(\"iceberg_snapshot\",first_snapshot)\n",
    "mlflow.log_param(\"feature_table\",train_tablename)\n",
    "mlflow.log_param(\"classifier\",\"XGBClassifier\")\n",
    "mlflow.log_metric(\"auc\", xgb_auc)\n",
    "mlflow.log_figure(fig, \"xgb_auc.png\")\n",
    "mlflow.sklearn.log_model(xgb, \"xgb_model\")\n",
    "  "
   ]
  },
  {
   "cell_type": "code",
   "execution_count": 52,
   "id": "06c02e70-773d-4129-bed7-ed51c5d7f945",
   "metadata": {},
   "outputs": [],
   "source": [
    "\n",
    "mlflow.end_run()"
   ]
  },
  {
   "cell_type": "markdown",
   "id": "opponent-matrix",
   "metadata": {
    "papermill": {
     "duration": 0.090548,
     "end_time": "2021-06-21T10:45:47.261207",
     "exception": false,
     "start_time": "2021-06-21T10:45:47.170659",
     "status": "completed"
    },
    "tags": []
   },
   "source": [
    "## *Model Performance Improvement*"
   ]
  },
  {
   "cell_type": "code",
   "execution_count": 53,
   "id": "05508878-5aba-43e1-921b-b5ae4ee5b13d",
   "metadata": {},
   "outputs": [
    {
     "data": {
      "text/plain": [
       "<ActiveRun: >"
      ]
     },
     "execution_count": 53,
     "metadata": {},
     "output_type": "execute_result"
    }
   ],
   "source": [
    "# Start a new entry\n",
    "mlflow.start_run()"
   ]
  },
  {
   "cell_type": "code",
   "execution_count": 54,
   "id": "orange-baker",
   "metadata": {
    "papermill": {
     "duration": 4.105331,
     "end_time": "2021-06-21T10:45:51.456107",
     "exception": false,
     "start_time": "2021-06-21T10:45:47.350776",
     "status": "completed"
    },
    "tags": []
   },
   "outputs": [],
   "source": [
    "from imblearn.over_sampling import SMOTE\n",
    "\n",
    "smote = SMOTE(sampling_strategy='minority')\n",
    "X_sm, y_sm = smote.fit_resample(train_new,Target)"
   ]
  },
  {
   "cell_type": "code",
   "execution_count": 55,
   "id": "reverse-northwest",
   "metadata": {
    "papermill": {
     "duration": 2.678329,
     "end_time": "2021-06-21T10:45:54.221357",
     "exception": false,
     "start_time": "2021-06-21T10:45:51.543028",
     "status": "completed"
    },
    "tags": []
   },
   "outputs": [],
   "source": [
    "from sklearn.model_selection import train_test_split\n",
    "X_train, X_test, y_train, y_test = train_test_split(X_sm, y_sm, test_size=0.2, random_state=15, stratify=y_sm)"
   ]
  },
  {
   "cell_type": "code",
   "execution_count": null,
   "id": "humanitarian-japanese",
   "metadata": {
    "papermill": {
     "duration": 61.908191,
     "end_time": "2021-06-21T10:46:56.217901",
     "exception": false,
     "start_time": "2021-06-21T10:45:54.309710",
     "status": "completed"
    },
    "tags": []
   },
   "outputs": [
    {
     "name": "stderr",
     "output_type": "stream",
     "text": [
      "/home/cdsw/.local/lib/python3.10/site-packages/sklearn/base.py:1473: DataConversionWarning: A column-vector y was passed when a 1d array was expected. Please change the shape of y to (n_samples,), for example using ravel().\n",
      "  return fit_method(estimator, *args, **kwargs)\n"
     ]
    }
   ],
   "source": [
    "# Fitting random forest classifier on balanced dataset\n",
    "\n",
    "rfb = RandomForestClassifier()\n",
    "rfb.fit(X_train, y_train)"
   ]
  },
  {
   "cell_type": "code",
   "execution_count": null,
   "id": "reverse-playback",
   "metadata": {
    "papermill": {
     "duration": 2.981497,
     "end_time": "2021-06-21T10:46:59.280628",
     "exception": false,
     "start_time": "2021-06-21T10:46:56.299131",
     "status": "completed"
    },
    "tags": []
   },
   "outputs": [],
   "source": [
    "rfb_pred = rfb.predict(X_test)\n",
    "\n",
    "rfb_auc = roc_auc_score(y_test, rfb_pred)\n",
    "rfb_auc"
   ]
  },
  {
   "cell_type": "code",
   "execution_count": null,
   "id": "1d3c7e45-30b0-4c48-b586-0aa272259fe9",
   "metadata": {},
   "outputs": [],
   "source": [
    "# Plotting roc curve\n",
    "\n",
    "from sklearn import metrics\n",
    "\n",
    "false_positive_rate, true_positive_rate, thresholds = metrics.roc_curve(y_test, rfb_pred)\n",
    "roc_auc = metrics.auc(false_positive_rate, true_positive_rate)\n",
    "plt.plot(false_positive_rate, true_positive_rate,label='RF AUC Level = %0.2f' % (roc_auc))\n",
    "plt.legend(loc='lower right')\n",
    "plt.plot([0, 1], [0, 1], 'r--')\n",
    "plt.xlim([0, 1])\n",
    "plt.ylim([0, 1])\n",
    "plt.ylabel('True Positive Rate')\n",
    "plt.xlabel('False Positive Rate')\n",
    "#save the plot as a variable\n",
    "fig = plt.gcf()\n",
    "\n",
    "plt.show()\n"
   ]
  },
  {
   "cell_type": "code",
   "execution_count": null,
   "id": "6882220b-9d56-4ffd-a4e5-82e08e843102",
   "metadata": {},
   "outputs": [],
   "source": [
    "mlflow.log_param(\"iceberg_snapshot\",first_snapshot)\n",
    "mlflow.log_param(\"feature_table\",train_tablename)\n",
    "mlflow.log_param(\"classifier\",\"RFBClassifier\")\n",
    "mlflow.log_metric(\"auc\", rfb_auc)\n",
    "mlflow.log_figure(fig, \"rfb_auc.png\")\n",
    "mlflow.sklearn.log_model(rfb, \"rfb_model\")\n"
   ]
  },
  {
   "cell_type": "code",
   "execution_count": null,
   "id": "d13a72bb-cac8-47f9-90b6-cb8d60b0c7a7",
   "metadata": {},
   "outputs": [],
   "source": [
    "\n",
    "mlflow.end_run()"
   ]
  },
  {
   "cell_type": "code",
   "execution_count": null,
   "id": "40dda10b-15a1-4e88-981f-0965705b7dd9",
   "metadata": {},
   "outputs": [],
   "source": [
    "# Start a new entry\n",
    "mlflow.start_run()"
   ]
  },
  {
   "cell_type": "code",
   "execution_count": null,
   "id": "finite-bumper",
   "metadata": {
    "papermill": {
     "duration": 2.172511,
     "end_time": "2021-06-21T10:47:01.534710",
     "exception": false,
     "start_time": "2021-06-21T10:46:59.362199",
     "status": "completed"
    },
    "tags": []
   },
   "outputs": [],
   "source": [
    "# Fitting LightGBM on balance data\n",
    "\n",
    "from lightgbm import LGBMClassifier\n",
    "\n",
    "lgb = LGBMClassifier()\n",
    "lgb.fit(X_train, y_train)"
   ]
  },
  {
   "cell_type": "code",
   "execution_count": null,
   "id": "ceramic-citizen",
   "metadata": {
    "papermill": {
     "duration": 0.329728,
     "end_time": "2021-06-21T10:47:01.952721",
     "exception": false,
     "start_time": "2021-06-21T10:47:01.622993",
     "status": "completed"
    },
    "tags": []
   },
   "outputs": [],
   "source": [
    "lgb_predict = lgb.predict(X_test)"
   ]
  },
  {
   "cell_type": "code",
   "execution_count": null,
   "id": "inappropriate-value",
   "metadata": {
    "papermill": {
     "duration": 0.125309,
     "end_time": "2021-06-21T10:47:02.168637",
     "exception": false,
     "start_time": "2021-06-21T10:47:02.043328",
     "status": "completed"
    },
    "tags": []
   },
   "outputs": [],
   "source": [
    "lgb_auc_score = roc_auc_score(y_test, lgb_predict)\n",
    "lgb_auc_score"
   ]
  },
  {
   "cell_type": "code",
   "execution_count": null,
   "id": "0b20f28f-6a75-4326-b4b4-c0bbc763b093",
   "metadata": {},
   "outputs": [],
   "source": [
    "# Plotting roc curve\n",
    "\n",
    "from sklearn import metrics\n",
    "\n",
    "false_positive_rate, true_positive_rate, thresholds = metrics.roc_curve(y_test, lgb_predict)\n",
    "roc_auc = metrics.auc(false_positive_rate, true_positive_rate)\n",
    "plt.plot(false_positive_rate, true_positive_rate,label='RF AUC Level = %0.2f' % (roc_auc))\n",
    "plt.legend(loc='lower right')\n",
    "plt.plot([0, 1], [0, 1], 'r--')\n",
    "plt.xlim([0, 1])\n",
    "plt.ylim([0, 1])\n",
    "plt.ylabel('True Positive Rate')\n",
    "plt.xlabel('False Positive Rate')\n",
    "#save the plot as a variable\n",
    "fig = plt.gcf()\n",
    "\n",
    "plt.show()"
   ]
  },
  {
   "cell_type": "code",
   "execution_count": null,
   "id": "39807ef8-59f2-4087-84aa-61777bb51a90",
   "metadata": {},
   "outputs": [],
   "source": [
    "mlflow.log_param(\"iceberg_snapshot\",first_snapshot)\n",
    "mlflow.log_param(\"feature_table\",train_tablename)\n",
    "mlflow.log_param(\"classifier\",\"LGBClassifier\")\n",
    "mlflow.log_metric(\"auc\", lgb_auc_score)\n",
    "mlflow.log_figure(fig, \"lgb_auc.png\")\n",
    "mlflow.sklearn.log_model(lgb, \"lgb_model\")"
   ]
  },
  {
   "cell_type": "code",
   "execution_count": null,
   "id": "ac5b8504-15b8-434e-999d-9521200e9e61",
   "metadata": {},
   "outputs": [],
   "source": [
    "\n",
    "mlflow.end_run()"
   ]
  },
  {
   "cell_type": "code",
   "execution_count": null,
   "id": "afa45488-ef2f-4869-987f-f2b537459490",
   "metadata": {},
   "outputs": [],
   "source": [
    "# Start a new entry\n",
    "mlflow.start_run()"
   ]
  },
  {
   "cell_type": "code",
   "execution_count": null,
   "id": "duplicate-infrastructure",
   "metadata": {
    "papermill": {
     "duration": 18.120263,
     "end_time": "2021-06-21T10:47:20.374549",
     "exception": false,
     "start_time": "2021-06-21T10:47:02.254286",
     "status": "completed"
    },
    "tags": []
   },
   "outputs": [],
   "source": [
    "# Fitting XGB Classifier on balanced dataset\n",
    "\n",
    "model = XGBClassifier()\n",
    "model.fit(X_train, y_train)"
   ]
  },
  {
   "cell_type": "code",
   "execution_count": null,
   "id": "cardiovascular-pierre",
   "metadata": {
    "papermill": {
     "duration": 0.18469,
     "end_time": "2021-06-21T10:47:20.645713",
     "exception": false,
     "start_time": "2021-06-21T10:47:20.461023",
     "status": "completed"
    },
    "tags": []
   },
   "outputs": [],
   "source": [
    "xgb_predict = model.predict(X_test)"
   ]
  },
  {
   "cell_type": "code",
   "execution_count": null,
   "id": "divine-accent",
   "metadata": {
    "papermill": {
     "duration": 0.124148,
     "end_time": "2021-06-21T10:47:20.860253",
     "exception": false,
     "start_time": "2021-06-21T10:47:20.736105",
     "status": "completed"
    },
    "tags": []
   },
   "outputs": [],
   "source": [
    "xgb_auc_score = roc_auc_score(y_test, xgb_predict)\n",
    "xgb_auc_score"
   ]
  },
  {
   "cell_type": "code",
   "execution_count": null,
   "id": "dc8da9f1-9d12-4ee9-8434-8470c016a3fe",
   "metadata": {
    "papermill": {
     "duration": 0.265831,
     "end_time": "2021-06-21T10:47:21.213150",
     "exception": false,
     "start_time": "2021-06-21T10:47:20.947319",
     "status": "completed"
    },
    "tags": []
   },
   "outputs": [],
   "source": [
    "# Plotting roc curve\n",
    "\n",
    "from sklearn import metrics\n",
    "\n",
    "false_positive_rate, true_positive_rate, thresholds = metrics.roc_curve(y_test, xgb_predict)\n",
    "roc_auc = metrics.auc(false_positive_rate, true_positive_rate)\n",
    "plt.plot(false_positive_rate, true_positive_rate,label='AUC Level = %0.2f' % (roc_auc))\n",
    "plt.legend(loc='lower right')\n",
    "plt.plot([0, 1], [0, 1], 'r--')\n",
    "plt.xlim([0, 1])\n",
    "plt.ylim([0, 1])\n",
    "plt.ylabel('True Positive Rate')\n",
    "plt.xlabel('False Positive Rate')\n",
    "plt.show()"
   ]
  },
  {
   "cell_type": "code",
   "execution_count": null,
   "id": "c6d835c6-1272-49e6-a79b-f9220daaaca7",
   "metadata": {},
   "outputs": [],
   "source": [
    "mlflow.log_param(\"iceberg_snapshot\",first_snapshot)\n",
    "mlflow.log_param(\"feature_table\",train_tablename)\n",
    "mlflow.log_param(\"classifier\",\"XGBBClassifier\")\n",
    "mlflow.log_metric(\"auc\", xgb_auc_score)\n",
    "mlflow.log_figure(fig, \"xgb_auc.png\")\n",
    "mlflow.sklearn.log_model(model, \"xgb_model\")"
   ]
  },
  {
   "cell_type": "code",
   "execution_count": null,
   "id": "9b2ba766-0811-4bbb-8d08-855dc56e8580",
   "metadata": {},
   "outputs": [],
   "source": [
    "\n",
    "mlflow.end_run()"
   ]
  },
  {
   "cell_type": "code",
   "execution_count": null,
   "id": "subject-royal",
   "metadata": {
    "papermill": {
     "duration": 0.084973,
     "end_time": "2021-06-21T10:47:21.553716",
     "exception": false,
     "start_time": "2021-06-21T10:47:21.468743",
     "status": "completed"
    },
    "tags": []
   },
   "outputs": [],
   "source": []
  }
 ],
 "metadata": {
  "kernelspec": {
   "display_name": "Python 3 (ipykernel)",
   "language": "python",
   "name": "python3"
  },
  "language_info": {
   "codemirror_mode": {
    "name": "ipython",
    "version": 3
   },
   "file_extension": ".py",
   "mimetype": "text/x-python",
   "name": "python",
   "nbconvert_exporter": "python",
   "pygments_lexer": "ipython3",
   "version": "3.10.13"
  },
  "papermill": {
   "default_parameters": {},
   "duration": 175.791802,
   "end_time": "2021-06-21T10:47:22.552361",
   "environment_variables": {},
   "exception": null,
   "input_path": "__notebook__.ipynb",
   "output_path": "__notebook__.ipynb",
   "parameters": {},
   "start_time": "2021-06-21T10:44:26.760559",
   "version": "2.3.2"
  }
 },
 "nbformat": 4,
 "nbformat_minor": 5
}
