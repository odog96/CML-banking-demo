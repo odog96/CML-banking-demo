{
 "cells": [
  {
   "cell_type": "code",
   "execution_count": 1,
   "id": "75b3f114-87b4-4a14-ae2e-b4fa6805dd9e",
   "metadata": {},
   "outputs": [],
   "source": [
    "from flask import Flask, render_template, request\n",
    "from impala.dbapi import connect\n",
    "import mlflow\n",
    "import pandas as pd\n",
    "import json\n",
    "import os\n",
    "\n",
    "import numpy as np\n",
    "\n",
    "#testing w / o sql alchemy for the moment\n",
    "#import sqlalchemy as db\n",
    "#from sqlalchemy import Table, MetaData, select, func, text\n",
    "\n",
    "import pickle\n",
    "import numpy\n",
    "from sklearn.preprocessing import LabelEncoder\n",
    "from sklearn.preprocessing import StandardScaler, OneHotEncoder"
   ]
  },
  {
   "cell_type": "code",
   "execution_count": 2,
   "id": "8ac4033b-b3ed-44ab-9187-89e886cddb98",
   "metadata": {},
   "outputs": [],
   "source": [
    "from random import randrange"
   ]
  },
  {
   "cell_type": "code",
   "execution_count": 3,
   "id": "88dd2c87-a9fb-4ea4-abf0-a33e6448098f",
   "metadata": {},
   "outputs": [],
   "source": [
    "import joblib"
   ]
  },
  {
   "cell_type": "markdown",
   "id": "b40b074c-add7-4b06-858b-74e4524e3d40",
   "metadata": {},
   "source": [
    "**load one hot encodeing pickly**"
   ]
  },
  {
   "cell_type": "code",
   "execution_count": 4,
   "id": "9ad0158c-6f09-4b6c-a49c-3190ee7eebc4",
   "metadata": {},
   "outputs": [],
   "source": [
    "ohefit = joblib.load(\"data/ohefit.save\")"
   ]
  },
  {
   "cell_type": "markdown",
   "id": "435dcfee-ad6c-49dd-a8a1-c59262717299",
   "metadata": {},
   "source": [
    "**load model**"
   ]
  },
  {
   "cell_type": "code",
   "execution_count": 5,
   "id": "877e1480-e53a-4e0e-83b1-65f4165c358b",
   "metadata": {},
   "outputs": [],
   "source": [
    "# Load the model from the file in another script/notebook\n",
    "with open('models_from_code/random_forest_model.pkl', 'rb') as model_file:\n",
    "    rf_loaded = pickle.load(model_file)"
   ]
  },
  {
   "cell_type": "code",
   "execution_count": 6,
   "id": "8160b520-069f-44a6-ba51-30f284ab9877",
   "metadata": {},
   "outputs": [],
   "source": [
    "#/home/cdsw/.experiments/42nu-7zr9-wubg-27kl', creation_time=None, experiment_id='42nu-7zr9-wubg-27kl'"
   ]
  },
  {
   "cell_type": "markdown",
   "id": "38841535-4c3c-4529-ace1-2eb3e4278a33",
   "metadata": {},
   "source": [
    "### Load pickle files"
   ]
  },
  {
   "cell_type": "code",
   "execution_count": 7,
   "id": "c696df16-72ea-4026-be18-283d2561dd56",
   "metadata": {},
   "outputs": [],
   "source": [
    "with open('data/standardscaler.pkl', 'rb') as file:\n",
    "    loaded_standardscaler = pickle.load(file)\n",
    "\n",
    "# with open('data/labelencoder.pkl', 'rb') as file:\n",
    "#     loaded_labelencoder = pickle.load(file)\n",
    "\n",
    "with open('data/data_num_cols.pkl', 'rb') as file:\n",
    "    data_num_cols = pickle.load(file)\n",
    "\n",
    "with open('data/data_cat_cols.pkl', 'rb') as file:\n",
    "    data_cat_cols = pickle.load(file)\n",
    "\n",
    "with open('data/onehotenc.pkl','rb') as file:\n",
    "    ohefit = pickle.load(file)"
   ]
  },
  {
   "cell_type": "markdown",
   "id": "491fa71e-735e-4658-a010-c8505ef4918d",
   "metadata": {},
   "source": [
    "### Normalize function"
   ]
  },
  {
   "cell_type": "code",
   "execution_count": 8,
   "id": "5c2bc868-7b72-46f1-a051-2dbe0fb36944",
   "metadata": {},
   "outputs": [],
   "source": [
    "def normalize_data(raw_data):\n",
    "    print(f\"top raw_data = {raw_data}\\n\")\n",
    "    #raw_data='{\"Age\": 27, \"Vintage\": 26, \"Avg_Account_Balance\": 707906, \"Channel_Code\": \"X1\", \"Credit_Product\": \"No\", \"Gender\": \"Female\", \"Is_Active\": \"No\", \"Occupation\": \"Salaried\", \"Region_Code\": \"RG256\"}'  \n",
    "    \n",
    "    #data = json.loads(raw_data)\n",
    "    #print(f\"json raw_data = {[raw_data]}\")\n",
    "\n",
    "    cc_vector_df = pd.DataFrame([raw_data])    \n",
    "    print(f\"raw pandas dataframe {cc_vector_df}\\n\")    \n",
    "        \n",
    "    data_num_data = cc_vector_df.loc[:, data_num_cols]\n",
    "    data_cat_data = cc_vector_df.loc[:, data_cat_cols]\n",
    "    \n",
    "    #print(\"Shape of num data:\", data_num_data.shape)\n",
    "    #print(\"Shape of cat data:\", data_cat_data.shape)\n",
    "    \n",
    "    print(f\"data_num_data: {data_num_data}\\n\")\n",
    "    print(f\"data_cat_data: {data_cat_data}\\n\")\n",
    "\n",
    "    data_num_data['Avg_Account_Balance'] = np.log(data_num_data['Avg_Account_Balance'])\n",
    "        \n",
    "    #data_num_data_s = loaded_standardscaler.fit_transform(data_num_data)\n",
    "    data_num_data_s = loaded_standardscaler.transform(data_num_data)\n",
    "    data_num_data_df_s = pd.DataFrame(data_num_data_s, columns = data_num_cols)\n",
    "\n",
    "    #print('numerical test data post standard scaler', data_num_data_s)\n",
    "   \n",
    "    data_cat_data_norm = ohefit.transform(data_cat_data)    \n",
    "\n",
    "    #print('columns of categorical encoded df', data_cat_data_norm.columns)\n",
    "    #print('type of categorical encoded df', type(data_cat_data_norm))\n",
    "\n",
    "    #print (' catagorical data post encoding', data_cat_data_norm)\n",
    "  \n",
    "    data_new = pd.concat([data_num_data_df_s, data_cat_data_norm], axis = 1)\n",
    "    \n",
    "    print(f\"transformed data={data_new}\\n\")\n",
    "    return data_new"
   ]
  },
  {
   "cell_type": "markdown",
   "id": "c0f7cf8b-a490-4d12-bbb6-7076d775cf08",
   "metadata": {},
   "source": [
    "**Test Data**"
   ]
  },
  {
   "cell_type": "code",
   "execution_count": 9,
   "id": "0c17daaa-4043-44ab-a20f-a243b0a25c5e",
   "metadata": {},
   "outputs": [],
   "source": [
    "test_data = pd.read_csv('test_data_file.csv')"
   ]
  },
  {
   "cell_type": "code",
   "execution_count": 13,
   "id": "8df9ab7a-7287-45a2-897c-d43fb553814e",
   "metadata": {},
   "outputs": [],
   "source": [
    "row_number = randrange(100)"
   ]
  },
  {
   "cell_type": "code",
   "execution_count": 14,
   "id": "5089f614-275e-41cc-afe5-45bfe1dc02b1",
   "metadata": {},
   "outputs": [],
   "source": [
    "test_sample = test_data.iloc[row_number].to_dict()"
   ]
  },
  {
   "cell_type": "code",
   "execution_count": 15,
   "id": "7324adb9-1f43-458b-b040-94e49ea859f9",
   "metadata": {},
   "outputs": [
    {
     "data": {
      "text/plain": [
       "{'ID': 'CTUXJGBS',\n",
       " 'Gender': 'Female',\n",
       " 'Age': 53,\n",
       " 'Region_Code': 'RG284',\n",
       " 'Occupation': 'Self_Employed',\n",
       " 'Channel_Code': 'X3',\n",
       " 'Vintage': 109,\n",
       " 'Credit_Product': 'Not Sure',\n",
       " 'Avg_Account_Balance': 2322802,\n",
       " 'Is_Active': 'Yes'}"
      ]
     },
     "execution_count": 15,
     "metadata": {},
     "output_type": "execute_result"
    }
   ],
   "source": [
    "test_sample"
   ]
  },
  {
   "cell_type": "code",
   "execution_count": 21,
   "id": "96bb771a-62ff-4e02-9900-7055f845c639",
   "metadata": {},
   "outputs": [
    {
     "name": "stdout",
     "output_type": "stream",
     "text": [
      "top raw_data = {'ID': 'X4JOAPHA', 'Gender': 'Male', 'Age': 67, 'Region_Code': 'RG261', 'Occupation': 'Other', 'Channel_Code': 'X1', 'Vintage': 19, 'Credit_Product': 'No', 'Avg_Account_Balance': 1013852, 'Is_Active': 'No'}\n",
      "\n",
      "raw pandas dataframe          ID Gender  Age Region_Code Occupation Channel_Code  Vintage  \\\n",
      "0  X4JOAPHA   Male   67       RG261      Other           X1       19   \n",
      "\n",
      "  Credit_Product  Avg_Account_Balance Is_Active  \n",
      "0             No              1013852        No  \n",
      "\n",
      "data_num_data:    Age  Vintage  Avg_Account_Balance\n",
      "0   67       19              1013852\n",
      "\n",
      "data_cat_data:   Channel_Code Credit_Product Gender Is_Active Occupation Region_Code\n",
      "0           X1             No   Male        No      Other       RG261\n",
      "\n",
      "transformed data=       Age   Vintage  Avg_Account_Balance  Channel_Code_X1  Channel_Code_X2  \\\n",
      "0  1.55905 -0.863745             0.153121              1.0              0.0   \n",
      "\n",
      "   Channel_Code_X3  Channel_Code_X4  Credit_Product_No  \\\n",
      "0              0.0              0.0                1.0   \n",
      "\n",
      "   Credit_Product_Not Sure  Credit_Product_Yes  ...  Region_Code_RG275  \\\n",
      "0                      0.0                 0.0  ...                0.0   \n",
      "\n",
      "   Region_Code_RG276  Region_Code_RG277  Region_Code_RG278  Region_Code_RG279  \\\n",
      "0                0.0                0.0                0.0                0.0   \n",
      "\n",
      "   Region_Code_RG280  Region_Code_RG281  Region_Code_RG282  Region_Code_RG283  \\\n",
      "0                0.0                0.0                0.0                0.0   \n",
      "\n",
      "   Region_Code_RG284  \n",
      "0                0.0  \n",
      "\n",
      "[1 rows x 53 columns]\n",
      "\n"
     ]
    }
   ],
   "source": [
    "norm_df  = normalize_data(test_sample)"
   ]
  },
  {
   "cell_type": "code",
   "execution_count": 22,
   "id": "62caeb15-5234-4590-8a5a-6a3f1e4b8c24",
   "metadata": {},
   "outputs": [
    {
     "data": {
      "text/html": [
       "<div>\n",
       "<style scoped>\n",
       "    .dataframe tbody tr th:only-of-type {\n",
       "        vertical-align: middle;\n",
       "    }\n",
       "\n",
       "    .dataframe tbody tr th {\n",
       "        vertical-align: top;\n",
       "    }\n",
       "\n",
       "    .dataframe thead th {\n",
       "        text-align: right;\n",
       "    }\n",
       "</style>\n",
       "<table border=\"1\" class=\"dataframe\">\n",
       "  <thead>\n",
       "    <tr style=\"text-align: right;\">\n",
       "      <th></th>\n",
       "      <th>Age</th>\n",
       "      <th>Vintage</th>\n",
       "      <th>Avg_Account_Balance</th>\n",
       "      <th>Channel_Code_X1</th>\n",
       "      <th>Channel_Code_X2</th>\n",
       "      <th>Channel_Code_X3</th>\n",
       "      <th>Channel_Code_X4</th>\n",
       "      <th>Credit_Product_No</th>\n",
       "      <th>Credit_Product_Not Sure</th>\n",
       "      <th>Credit_Product_Yes</th>\n",
       "      <th>...</th>\n",
       "      <th>Region_Code_RG275</th>\n",
       "      <th>Region_Code_RG276</th>\n",
       "      <th>Region_Code_RG277</th>\n",
       "      <th>Region_Code_RG278</th>\n",
       "      <th>Region_Code_RG279</th>\n",
       "      <th>Region_Code_RG280</th>\n",
       "      <th>Region_Code_RG281</th>\n",
       "      <th>Region_Code_RG282</th>\n",
       "      <th>Region_Code_RG283</th>\n",
       "      <th>Region_Code_RG284</th>\n",
       "    </tr>\n",
       "  </thead>\n",
       "  <tbody>\n",
       "    <tr>\n",
       "      <th>0</th>\n",
       "      <td>1.55905</td>\n",
       "      <td>-0.863745</td>\n",
       "      <td>0.153121</td>\n",
       "      <td>1.0</td>\n",
       "      <td>0.0</td>\n",
       "      <td>0.0</td>\n",
       "      <td>0.0</td>\n",
       "      <td>1.0</td>\n",
       "      <td>0.0</td>\n",
       "      <td>0.0</td>\n",
       "      <td>...</td>\n",
       "      <td>0.0</td>\n",
       "      <td>0.0</td>\n",
       "      <td>0.0</td>\n",
       "      <td>0.0</td>\n",
       "      <td>0.0</td>\n",
       "      <td>0.0</td>\n",
       "      <td>0.0</td>\n",
       "      <td>0.0</td>\n",
       "      <td>0.0</td>\n",
       "      <td>0.0</td>\n",
       "    </tr>\n",
       "  </tbody>\n",
       "</table>\n",
       "<p>1 rows × 53 columns</p>\n",
       "</div>"
      ],
      "text/plain": [
       "       Age   Vintage  Avg_Account_Balance  Channel_Code_X1  Channel_Code_X2  \\\n",
       "0  1.55905 -0.863745             0.153121              1.0              0.0   \n",
       "\n",
       "   Channel_Code_X3  Channel_Code_X4  Credit_Product_No  \\\n",
       "0              0.0              0.0                1.0   \n",
       "\n",
       "   Credit_Product_Not Sure  Credit_Product_Yes  ...  Region_Code_RG275  \\\n",
       "0                      0.0                 0.0  ...                0.0   \n",
       "\n",
       "   Region_Code_RG276  Region_Code_RG277  Region_Code_RG278  Region_Code_RG279  \\\n",
       "0                0.0                0.0                0.0                0.0   \n",
       "\n",
       "   Region_Code_RG280  Region_Code_RG281  Region_Code_RG282  Region_Code_RG283  \\\n",
       "0                0.0                0.0                0.0                0.0   \n",
       "\n",
       "   Region_Code_RG284  \n",
       "0                0.0  \n",
       "\n",
       "[1 rows x 53 columns]"
      ]
     },
     "execution_count": 22,
     "metadata": {},
     "output_type": "execute_result"
    }
   ],
   "source": [
    "norm_df.head()"
   ]
  },
  {
   "cell_type": "markdown",
   "id": "271de28c-0959-448c-b1d5-e495df3e43e7",
   "metadata": {},
   "source": [
    "### make predictions"
   ]
  },
  {
   "cell_type": "code",
   "execution_count": null,
   "id": "cf53073f-cc8f-42e8-a9cc-ba0dac5a4795",
   "metadata": {},
   "outputs": [],
   "source": [
    "#rf_loaded"
   ]
  },
  {
   "cell_type": "code",
   "execution_count": 23,
   "id": "ab22d00e-7ae6-47b9-9590-193952474ffa",
   "metadata": {},
   "outputs": [],
   "source": [
    "rf_pred = rf_loaded.predict(norm_df)"
   ]
  },
  {
   "cell_type": "code",
   "execution_count": 25,
   "id": "c41accb2-9afc-4d8a-b1a1-dd235c19858f",
   "metadata": {},
   "outputs": [
    {
     "data": {
      "text/plain": [
       "array([0], dtype=int32)"
      ]
     },
     "execution_count": 25,
     "metadata": {},
     "output_type": "execute_result"
    }
   ],
   "source": [
    "rf_pred"
   ]
  },
  {
   "cell_type": "code",
   "execution_count": 24,
   "id": "617e1c40-bbf7-49d8-9b46-4cbad1542f52",
   "metadata": {},
   "outputs": [
    {
     "ename": "NameError",
     "evalue": "name 'loaded_model' is not defined",
     "output_type": "error",
     "traceback": [
      "\u001b[0;31m---------------------------------------------------------------------------\u001b[0m",
      "\u001b[0;31mNameError\u001b[0m                                 Traceback (most recent call last)",
      "Cell \u001b[0;32mIn[24], line 1\u001b[0m\n\u001b[0;32m----> 1\u001b[0m prediction \u001b[38;5;241m=\u001b[39m \u001b[43mloaded_model\u001b[49m\u001b[38;5;241m.\u001b[39mpredict(norm_df)\n\u001b[1;32m      2\u001b[0m \u001b[38;5;28mprint\u001b[39m(\u001b[38;5;124mf\u001b[39m\u001b[38;5;124m\"\u001b[39m\u001b[38;5;124mprediction = \u001b[39m\u001b[38;5;132;01m{\u001b[39;00mprediction[\u001b[38;5;241m0\u001b[39m]\u001b[38;5;132;01m}\u001b[39;00m\u001b[38;5;124m\"\u001b[39m)\n",
      "\u001b[0;31mNameError\u001b[0m: name 'loaded_model' is not defined"
     ]
    }
   ],
   "source": [
    "# prediction = loaded_model.predict(norm_df)\n",
    "# print(f\"prediction = {prediction[0]}\")"
   ]
  },
  {
   "cell_type": "code",
   "execution_count": null,
   "id": "5d04c45f-158b-43ec-8a35-ef0af6f97694",
   "metadata": {},
   "outputs": [],
   "source": []
  }
 ],
 "metadata": {
  "kernelspec": {
   "display_name": "Python 3 (ipykernel)",
   "language": "python",
   "name": "python3"
  },
  "language_info": {
   "codemirror_mode": {
    "name": "ipython",
    "version": 3
   },
   "file_extension": ".py",
   "mimetype": "text/x-python",
   "name": "python",
   "nbconvert_exporter": "python",
   "pygments_lexer": "ipython3",
   "version": "3.10.13"
  }
 },
 "nbformat": 4,
 "nbformat_minor": 5
}
